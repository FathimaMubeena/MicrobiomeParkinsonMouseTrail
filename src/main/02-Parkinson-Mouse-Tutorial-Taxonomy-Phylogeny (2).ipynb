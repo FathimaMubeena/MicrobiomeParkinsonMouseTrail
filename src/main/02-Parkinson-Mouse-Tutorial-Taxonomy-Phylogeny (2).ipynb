{
 "cells": [
  {
   "cell_type": "markdown",
   "metadata": {},
   "source": [
    "# Parkinson's Mouse Tutorial - Taxonomy Assignment\n",
    "\n",
    "Run this notebook in `qiime2-2022.11`.\n",
    "\n",
    "Continuing the [pd-mouse tutorial](https://docs.qiime2.org/2022.11/tutorials/pd-mice/). Specifically the [Taxonomy](https://docs.qiime2.org/2022.11/tutorials/pd-mice/#taxonomic-classification), and [Phylogeny](https://docs.qiime2.org/2022.11/tutorials/pd-mice/#generating-a-phylogenetic-tree-for-diversity-analysis) steps. *Note we'll use a *de novo* [align-to-tree-mafft-fasttree ](https://docs.qiime2.org/2022.11/tutorials/phylogeny/#pipelines) step so we can run through this tutorial quicker.*"
   ]
  },
  {
   "cell_type": "code",
   "execution_count": 1,
   "metadata": {},
   "outputs": [],
   "source": [
    "from os import getcwd, listdir, chdir, mkdir\n",
    "import qiime2 as q2"
   ]
  },
  {
   "cell_type": "code",
   "execution_count": 2,
   "metadata": {},
   "outputs": [
    {
     "data": {
      "text/plain": [
       "'/Users/fatimamubeenshaik/IdeaProjects/ParkinsonMouseTrail/src/main'"
      ]
     },
     "execution_count": 2,
     "metadata": {},
     "output_type": "execute_result"
    }
   ],
   "source": [
    "getcwd()"
   ]
  },
  {
   "cell_type": "code",
   "execution_count": 3,
   "metadata": {},
   "outputs": [
    {
     "data": {
      "text/plain": [
       "'/Users/fatimamubeenshaik/IdeaProjects/ParkinsonMouseTrail/src/main/processed'"
      ]
     },
     "execution_count": 3,
     "metadata": {},
     "output_type": "execute_result"
    }
   ],
   "source": [
    "chdir('./processed')\n",
    "getcwd()"
   ]
  },
  {
   "cell_type": "markdown",
   "metadata": {},
   "source": [
    "## Download classifiers if runing on your laptop:\n",
    "\n",
    "We'll assign taxonomy using SILVA. Can obtain classifiers from the [Data Resource Page](https://docs.qiime2.org/2022.11/data-resources/)."
   ]
  },
  {
   "cell_type": "code",
   "execution_count": 4,
   "metadata": {},
   "outputs": [
    {
     "ename": "FileExistsError",
     "evalue": "[Errno 17] File exists: 'silva-classifiers'",
     "output_type": "error",
     "traceback": [
      "\u001b[0;31m---------------------------------------------------------------------------\u001b[0m",
      "\u001b[0;31mFileExistsError\u001b[0m                           Traceback (most recent call last)",
      "Cell \u001b[0;32mIn[4], line 1\u001b[0m\n\u001b[0;32m----> 1\u001b[0m \u001b[43mmkdir\u001b[49m\u001b[43m(\u001b[49m\u001b[38;5;124;43m'\u001b[39;49m\u001b[38;5;124;43msilva-classifiers\u001b[39;49m\u001b[38;5;124;43m'\u001b[39;49m\u001b[43m)\u001b[49m\n",
      "\u001b[0;31mFileExistsError\u001b[0m: [Errno 17] File exists: 'silva-classifiers'"
     ]
    }
   ],
   "source": [
    "mkdir('silva-classifiers')"
   ]
  },
  {
   "cell_type": "code",
   "execution_count": 5,
   "metadata": {},
   "outputs": [
    {
     "name": "stdout",
     "output_type": "stream",
     "text": [
      "--2024-04-07 17:23:12--  https://data.qiime2.org/2022.11/common/silva-138-99-515-806-nb-classifier.qza\n",
      "Resolving data.qiime2.org (data.qiime2.org)... 54.200.1.12\n",
      "Connecting to data.qiime2.org (data.qiime2.org)|54.200.1.12|:443... connected.\n",
      "HTTP request sent, awaiting response... 302 FOUND\n",
      "Location: https://s3-us-west-2.amazonaws.com/qiime2-data/2022.11/common/silva-138-99-515-806-nb-classifier.qza [following]\n",
      "--2024-04-07 17:23:13--  https://s3-us-west-2.amazonaws.com/qiime2-data/2022.11/common/silva-138-99-515-806-nb-classifier.qza\n",
      "Resolving s3-us-west-2.amazonaws.com (s3-us-west-2.amazonaws.com)... 52.92.148.232, 52.218.236.144, 52.92.241.136, ...\n",
      "Connecting to s3-us-west-2.amazonaws.com (s3-us-west-2.amazonaws.com)|52.92.148.232|:443... connected.\n",
      "HTTP request sent, awaiting response... 200 OK\n",
      "Length: 148294965 (141M) [binary/octet-stream]\n",
      "Saving to: ‘./silva-classifiers/silva-138-99-515-806-nb-classifier.qza’\n",
      "\n",
      "./silva-classifiers 100%[===================>] 141.42M  29.9MB/s    in 4.7s    \n",
      "\n",
      "2024-04-07 17:23:18 (30.3 MB/s) - ‘./silva-classifiers/silva-138-99-515-806-nb-classifier.qza’ saved [148294965/148294965]\n",
      "\n"
     ]
    }
   ],
   "source": [
    "! wget https://data.qiime2.org/2022.11/common/silva-138-99-515-806-nb-classifier.qza \\\n",
    "    -O ./silva-classifiers/silva-138-99-515-806-nb-classifier.qza"
   ]
  },
  {
   "cell_type": "raw",
   "metadata": {},
   "source": []
  },
  {
   "cell_type": "markdown",
   "metadata": {},
   "source": [
    "## If you are running on the HPC the classifiers are located at:\n",
    " - `/home/SE/BMIG-6202-MSR/RefDBs/q2-2022.11/silva-138-1-ssu-nr99-515f-806r-classifier.qza`\n",
    " - `/home/SE/BMIG-6202-MSR/RefDBs/q2-2022.11/silva-138-1-ssu-nr99-classifier.qza`\n",
    " \n",
    " You can setup a shortcut like this:\n",
    "\n",
    "V4:\n",
    "`silva_classifier='/home/SE/BMIG-6202-MSR/RefDBs/q2-2023.9/silva-138-1-ssu-nr99-515f-806r-classifier.qza'`\n",
    "\n",
    "V3V4:\n",
    "`silva_classifier='/home/SE/BMIG-6202-MSR/RefDBs/q2-2023.9/silva-138-1-ssu-nr99-357f-785r-classifier.qza'`"
   ]
  },
  {
   "cell_type": "code",
   "execution_count": 6,
   "metadata": {},
   "outputs": [],
   "source": [
    "silva_classifier='/Users/fatimamubeenshaik/IdeaProjects/ParkinsonMouseTrail/src/main/processed/silva-classifiers/silva-138-99-515-806-nb-classifier.qza'"
   ]
  },
  {
   "cell_type": "markdown",
   "metadata": {},
   "source": [
    "## Classify sequences / reads\n",
    "\n",
    "In the command below, I'll be running on the HPC using the shortcut `$silva_classifier`."
   ]
  },
  {
   "cell_type": "code",
   "execution_count": 7,
   "metadata": {},
   "outputs": [
    {
     "name": "stdout",
     "output_type": "stream",
     "text": [
      "\u001b[32mSaved FeatureData[Taxonomy] to: ./taxonomy.qza\u001b[0m\n",
      "\u001b[0m"
     ]
    }
   ],
   "source": [
    "! qiime feature-classifier classify-sklearn \\\n",
    "    --i-reads ./dada2_rep_set.qza \\\n",
    "    --i-classifier $silva_classifier \\\n",
    "    --p-n-jobs 2 \\\n",
    "    --o-classification ./taxonomy.qza"
   ]
  },
  {
   "cell_type": "code",
   "execution_count": 17,
   "metadata": {},
   "outputs": [
    {
     "name": "stdout",
     "output_type": "stream",
     "text": [
      "\u001b[32mSaved Visualization to: ./taxonomy.qzv\u001b[0m\n",
      "\u001b[0m"
     ]
    }
   ],
   "source": [
    "# View list of classifications\n",
    "! qiime metadata tabulate \\\n",
    "    --m-input-file ./taxonomy.qza \\\n",
    "    --o-visualization ./taxonomy.qzv"
   ]
  },
  {
   "cell_type": "raw",
   "metadata": {},
   "source": [
    "q2.Visualization.load('taxonomy.qzv')"
   ]
  },
  {
   "cell_type": "code",
   "execution_count": 18,
   "metadata": {},
   "outputs": [
    {
     "name": "stdout",
     "output_type": "stream",
     "text": [
      "\u001b[32mSaved Visualization to: ./taxa_barplot.qzv\u001b[0m\n",
      "\u001b[0m"
     ]
    }
   ],
   "source": [
    "# View a taxonomy barplot\n",
    "! qiime taxa barplot \\\n",
    "    --i-table ./dada2_table.qza \\\n",
    "    --i-taxonomy ./taxonomy.qza \\\n",
    "    --m-metadata-file ./metadata.tsv \\\n",
    "    --o-visualization ./taxa_barplot.qzv"
   ]
  },
  {
   "cell_type": "raw",
   "metadata": {},
   "source": [
    "q2.Visualization.load('taxa_barplot.qzv')"
   ]
  },
  {
   "cell_type": "markdown",
   "metadata": {},
   "source": [
    "## Remove poorly classified reads\n",
    "\n",
    "[Filtering Documentation](https://docs.qiime2.org/2020.11/tutorials/filtering/)"
   ]
  },
  {
   "cell_type": "code",
   "execution_count": 19,
   "metadata": {},
   "outputs": [
    {
     "name": "stdout",
     "output_type": "stream",
     "text": [
      "\u001b[32mSaved FeatureTable[Frequency] to: ./table-no-ecmu.qza\u001b[0m\n",
      "\u001b[0m"
     ]
    }
   ],
   "source": [
    "! qiime taxa filter-table \\\n",
    "    --i-table ./dada2_table.qza \\\n",
    "    --i-taxonomy ./taxonomy.qza \\\n",
    "    --p-mode 'contains'  \\\n",
    "    --p-include 'p__' \\\n",
    "    --p-exclude 'p__;,Eukaryota,Chloroplast,Mitochondria' \\\n",
    "    --o-filtered-table ./table-no-ecmu.qza"
   ]
  },
  {
   "cell_type": "code",
   "execution_count": null,
   "metadata": {},
   "outputs": [],
   "source": [
    "! qiime metadata tabulate \\\n",
    "    --m-input-file ./taxonomy.qza \\\n",
    "    --o-visualization ./taxonomy.qzv"
   ]
  },
  {
   "cell_type": "code",
   "execution_count": 23,
   "metadata": {},
   "outputs": [
    {
     "name": "stdout",
     "output_type": "stream",
     "text": [
      "\u001b[32mSaved Visualization to: ./table-no-ecmu.qzv\u001b[0m\n",
      "\u001b[0m"
     ]
    }
   ],
   "source": [
    "# summarize ESV table\n",
    "! qiime feature-table summarize \\\n",
    "    --i-table ./table-no-ecmu.qza \\\n",
    "    --m-sample-metadata-file ./metadata.tsv \\\n",
    "    --o-visualization ./table-no-ecmu.qzv"
   ]
  },
  {
   "cell_type": "code",
   "execution_count": 27,
   "metadata": {},
   "outputs": [
    {
     "name": "stdout",
     "output_type": "stream",
     "text": [
      "\u001b[32mSaved FeatureData[Sequence] to: rep_set-no-ecmu.qza\u001b[0m\n",
      "\u001b[0m"
     ]
    }
   ],
   "source": [
    " #keep seq file in sync with table! \n",
    "! qiime feature-table filter-seqs \\\n",
    "    --i-data ./dada2_rep_set.qza \\\n",
    "    --i-table ./table-no-ecmu.qza \\\n",
    "    --o-filtered-data rep_set-no-ecmu.qza"
   ]
  },
  {
   "cell_type": "code",
   "execution_count": 28,
   "metadata": {},
   "outputs": [
    {
     "name": "stdout",
     "output_type": "stream",
     "text": [
      "\u001b[32mExported rep_set-no-ecmu.qza as DNASequencesDirectoryFormat to directory rep_set-no-ecmu-export\u001b[0m\n",
      "\u001b[0m"
     ]
    }
   ],
   "source": [
    "! qiime tools export \\\n",
    "    --input-path rep_set-no-ecmu.qza \\\n",
    "    --output-path rep_set-no-ecmu-export"
   ]
  },
  {
   "cell_type": "code",
   "execution_count": 29,
   "metadata": {},
   "outputs": [
    {
     "name": "stdout",
     "output_type": "stream",
     "text": [
      "\u001b[32mSaved Visualization to: ./table-no-ecmu-taxa-barplot.qzv\u001b[0m\n",
      "\u001b[0m"
     ]
    }
   ],
   "source": [
    "# View a taxonomy barplot\n",
    "! qiime taxa barplot \\\n",
    "    --i-table ./table-no-ecmu.qza \\\n",
    "    --i-taxonomy ./taxonomy.qza \\\n",
    "    --m-metadata-file ./metadata.tsv \\\n",
    "    --o-visualization ./table-no-ecmu-taxa-barplot.qzv"
   ]
  },
  {
   "cell_type": "raw",
   "metadata": {},
   "source": [
    "q2.Visualization.load('table-no-ecmu-taxa-barplot.qzv')"
   ]
  },
  {
   "cell_type": "markdown",
   "metadata": {},
   "source": [
    "#### krona plot"
   ]
  },
  {
   "cell_type": "code",
   "execution_count": 12,
   "metadata": {},
   "outputs": [
    {
     "name": "stderr",
     "output_type": "stream",
     "text": [
      "python(34578) MallocStackLogging: can't turn off malloc stack logging because it was not enabled.\n"
     ]
    },
    {
     "name": "stdout",
     "output_type": "stream",
     "text": [
      "Channels:\n",
      " - bioconda\n",
      " - defaults\n",
      " - conda-forge\n",
      " - https://packages.qiime2.org/qiime2/2024.5/amplicon/passed\n",
      "Platform: osx-64\n",
      "Collecting package metadata (repodata.json): done\n",
      "Solving environment: done\n",
      "\n",
      "# All requested packages already installed.\n",
      "\n"
     ]
    }
   ],
   "source": [
    "! conda install -c bioconda krona"
   ]
  },
  {
   "cell_type": "code",
   "execution_count": 29,
   "metadata": {},
   "outputs": [
    {
     "name": "stderr",
     "output_type": "stream",
     "text": [
      "python(34671) MallocStackLogging: can't turn off malloc stack logging because it was not enabled.\n"
     ]
    },
    {
     "name": "stdout",
     "output_type": "stream",
     "text": [
      "\u001b[32mSystem versions\u001b[0m\n",
      "Python version: 3.8.18\n",
      "QIIME 2 release: 2024.5\n",
      "QIIME 2 version: 2024.5.0.dev0+1.g6306962\n",
      "q2cli version: 2024.5.0.dev0\n",
      "\u001b[32m\n",
      "Installed plugins\u001b[0m\n",
      "alignment: 2024.5.0.dev0+1.g3a9c58b\n",
      "composition: 2024.5.0.dev0\n",
      "cutadapt: 2024.5.0.dev0\n",
      "dada2: 2024.5.0.dev0\n",
      "deblur: 2024.5.0.dev0\n",
      "demux: 2024.5.0.dev0\n",
      "diversity: 2024.5.0.dev0+1.g99a0cca\n",
      "diversity-lib: 2024.5.0.dev0\n",
      "emperor: 2024.5.0.dev0\n",
      "feature-classifier: 2024.5.0.dev0\n",
      "feature-table: 2024.5.0.dev0+2.g65222bd\n",
      "fragment-insertion: 2024.5.0.dev0\n",
      "longitudinal: 2024.5.0.dev0\n",
      "metadata: 2024.5.0.dev0\n",
      "phylogeny: 2024.5.0.dev0\n",
      "quality-control: 2024.5.0.dev0\n",
      "quality-filter: 2024.5.0.dev0\n",
      "rescript: 2024.5.0.dev0+2.ga0df425\n",
      "sample-classifier: 2024.5.0.dev0\n",
      "taxa: 2024.5.0.dev0\n",
      "types: 2024.5.0.dev0+4.g823b5a4\n",
      "vsearch: 2024.5.0.dev0\n",
      "\u001b[32m\n",
      "Application config directory\u001b[0m\n",
      "/Users/fatimamubeenshaik/miniconda3/envs/qiime2-dev/var/q2cli\u001b[0m\n",
      "\u001b[32m\n",
      "Getting help\u001b[0m\n",
      "To get help with QIIME 2, visit https://qiime2.org\u001b[0m\n"
     ]
    }
   ],
   "source": [
    "! qiime info"
   ]
  },
  {
   "cell_type": "code",
   "execution_count": 14,
   "metadata": {},
   "outputs": [
    {
     "name": "stderr",
     "output_type": "stream",
     "text": [
      "python(34599) MallocStackLogging: can't turn off malloc stack logging because it was not enabled.\n"
     ]
    },
    {
     "name": "stdout",
     "output_type": "stream",
     "text": [
      "\u001b[31m\u001b[1mError: QIIME 2 has no plugin/command named 'krona'.\u001b[0m\r\n"
     ]
    }
   ],
   "source": [
    "! qiime krona collapse-and-plot \\\n",
    "    --i-table ./table-no-ecmu.qza \\\n",
    "    --i-taxonomy ./taxonomy.qza \\\n",
    "    --o-krona-plot ./table-no-ecmu-taxa-krona.qzv"
   ]
  },
  {
   "cell_type": "markdown",
   "metadata": {},
   "source": [
    "##  Other QA / QC Operations\n",
    "\n",
    "See [q2-quality-control tutorial](https://docs.qiime2.org/2022.11/tutorials/quality-control/)."
   ]
  },
  {
   "cell_type": "code",
   "execution_count": 23,
   "metadata": {},
   "outputs": [],
   "source": [
    "mkdir('references')"
   ]
  },
  {
   "cell_type": "code",
   "execution_count": 24,
   "metadata": {},
   "outputs": [
    {
     "name": "stdout",
     "output_type": "stream",
     "text": [
      "--2024-04-07 17:40:24--  https://data.qiime2.org/2022.11/common/silva-138-99-seqs-515-806.qza\n",
      "Resolving data.qiime2.org (data.qiime2.org)... 54.200.1.12\n",
      "Connecting to data.qiime2.org (data.qiime2.org)|54.200.1.12|:443... "
     ]
    },
    {
     "name": "stderr",
     "output_type": "stream",
     "text": [
      "python(34636) MallocStackLogging: can't turn off malloc stack logging because it was not enabled.\n"
     ]
    },
    {
     "name": "stdout",
     "output_type": "stream",
     "text": [
      "connected.\n",
      "HTTP request sent, awaiting response... 302 FOUND\n",
      "Location: https://qiime2-data.s3-us-west-2.amazonaws.com/2022.11/common/silva-138-99-seqs-515-806.qza [following]\n",
      "--2024-04-07 17:40:24--  https://qiime2-data.s3-us-west-2.amazonaws.com/2022.11/common/silva-138-99-seqs-515-806.qza\n",
      "Resolving qiime2-data.s3-us-west-2.amazonaws.com (qiime2-data.s3-us-west-2.amazonaws.com)... 52.92.187.194, 52.92.164.90, 3.5.76.198, ...\n",
      "Connecting to qiime2-data.s3-us-west-2.amazonaws.com (qiime2-data.s3-us-west-2.amazonaws.com)|52.92.187.194|:443... connected.\n",
      "HTTP request sent, awaiting response... 200 OK\n",
      "Length: 14620394 (14M) [binary/octet-stream]\n",
      "Saving to: ‘./references/silva-138-99-seqs-515-806.qza’\n",
      "\n",
      "./references/silva- 100%[===================>]  13.94M  24.7MB/s    in 0.6s    \n",
      "\n",
      "2024-04-07 17:40:25 (24.7 MB/s) - ‘./references/silva-138-99-seqs-515-806.qza’ saved [14620394/14620394]\n",
      "\n"
     ]
    }
   ],
   "source": [
    "# download pre-made SILVA refrence\n",
    "! wget https://data.qiime2.org/2022.11/common/silva-138-99-seqs-515-806.qza \\\n",
    "    -O ./references/silva-138-99-seqs-515-806.qza"
   ]
  },
  {
   "cell_type": "code",
   "execution_count": 25,
   "metadata": {},
   "outputs": [],
   "source": [
    "silva_ref_seq='/Users/fatimamubeenshaik/IdeaProjects/ParkinsonMouseTrail/src/main/processed/references/silva-138-99-seqs-515-806.qza'"
   ]
  },
  {
   "cell_type": "code",
   "execution_count": 26,
   "metadata": {},
   "outputs": [
    {
     "name": "stderr",
     "output_type": "stream",
     "text": [
      "python(34642) MallocStackLogging: can't turn off malloc stack logging because it was not enabled.\n"
     ]
    },
    {
     "name": "stdout",
     "output_type": "stream",
     "text": [
      "Running external command line application. This may print messages to stdout and/or stderr.\n",
      "The commands to be run are below. These commands cannot be manually re-run as they will depend on temporary files that no longer exist.\n",
      "\n",
      "Command: vsearch --usearch_global /var/folders/2y/702nfmtx76sd29583bwt4gp00000gn/T/qiime2/fatimamubeenshaik/data/a53a5454-aba0-41ba-9b71-316920390fb3/data/dna-sequences.fasta --id 0.9 --strand both --maxaccepts 1 --maxrejects 0 --db /var/folders/2y/702nfmtx76sd29583bwt4gp00000gn/T/qiime2/fatimamubeenshaik/data/b41681fb-a4e7-4ef8-a23a-a26f1bcfd272/data/dna-sequences.fasta --threads 8 --userfields query+target+ql+qlo+qhi --userout /var/folders/2y/702nfmtx76sd29583bwt4gp00000gn/T/tmpz6z4mjd5\n",
      "\n",
      "vsearch v2.22.1_macos_x86_64, 16.0GB RAM, 12 cores\n",
      "https://github.com/torognes/vsearch\n",
      "\n",
      "Reading file /var/folders/2y/702nfmtx76sd29583bwt4gp00000gn/T/qiime2/fatimamubeenshaik/data/b41681fb-a4e7-4ef8-a23a-a26f1bcfd272/data/dna-sequences.fasta 100%           \n",
      "86453445 nt in 313734 seqs, min 54, max 2366, avg 276\n",
      "Masking 100%                                                                                                \n",
      "Counting k-mers 100%                  \n",
      "Creating k-mer index 100%                                                      \n",
      "Searching 100%            \n",
      "Matching unique query sequences: 263 of 264 (99.62%)\n",
      "/Users/fatimamubeenshaik/miniconda3/envs/qiime2-dev/lib/python3.8/site-packages/q2_types/feature_data/_transformer.py:258: FutureWarning: iteritems is deprecated and will be removed in a future version. Use .items instead.\n",
      "  for id_, seq in data.iteritems():\n",
      "/Users/fatimamubeenshaik/miniconda3/envs/qiime2-dev/lib/python3.8/site-packages/q2_types/feature_data/_transformer.py:258: FutureWarning: iteritems is deprecated and will be removed in a future version. Use .items instead.\n",
      "  for id_, seq in data.iteritems():\n",
      "\u001b[32mSaved FeatureData[Sequence] to: ./hits.qza\u001b[0m\n",
      "\u001b[32mSaved FeatureData[Sequence] to: ./misses.qza\u001b[0m\n",
      "\u001b[0m"
     ]
    }
   ],
   "source": [
    "# remove poor quality sequence that do not have a decent match to our curated reference database.\n",
    "! qiime quality-control exclude-seqs \\\n",
    "    --i-query-sequences ./rep_set-no-ecmu.qza \\\n",
    "    --i-reference-sequences $silva_ref_seq \\\n",
    "    --p-method vsearch \\\n",
    "    --p-perc-identity 0.90 \\\n",
    "    --p-perc-query-aligned 0.90 \\\n",
    "    --p-threads 8 \\\n",
    "    --o-sequence-hits ./hits.qza \\\n",
    "    --o-sequence-misses ./misses.qza \\\n",
    "    --verbose"
   ]
  },
  {
   "cell_type": "code",
   "execution_count": 30,
   "metadata": {},
   "outputs": [
    {
     "name": "stderr",
     "output_type": "stream",
     "text": [
      "python(34694) MallocStackLogging: can't turn off malloc stack logging because it was not enabled.\n"
     ]
    },
    {
     "name": "stdout",
     "output_type": "stream",
     "text": [
      "\u001b[32mSaved FeatureTable[Frequency] to: ./table-no-ecmu-hits.qza\u001b[0m\n",
      "\u001b[0m"
     ]
    }
   ],
   "source": [
    "# filter table to match filtered sequence file\n",
    "! qiime feature-table filter-features \\\n",
    "    --i-table ./table-no-ecmu.qza \\\n",
    "    --m-metadata-file ./hits.qza \\\n",
    "    --o-filtered-table ./table-no-ecmu-hits.qza"
   ]
  },
  {
   "cell_type": "markdown",
   "metadata": {},
   "source": [
    "#### Given that we filtered our data again, you may want to re-generate the taxonomy plots. Use the prior taxonomy visualization commands above as a guid and run them below, with the new table:"
   ]
  },
  {
   "cell_type": "code",
   "execution_count": 31,
   "metadata": {},
   "outputs": [
    {
     "name": "stderr",
     "output_type": "stream",
     "text": [
      "python(34696) MallocStackLogging: can't turn off malloc stack logging because it was not enabled.\n"
     ]
    },
    {
     "name": "stdout",
     "output_type": "stream",
     "text": [
      "\u001b[32mSaved Visualization to: ./table-no-ecmu-hits-taxa-barplot.qzv\u001b[0m\n",
      "\u001b[0m"
     ]
    }
   ],
   "source": [
    "# updated taxonomy barplot\n",
    "! qiime taxa barplot \\\n",
    "    --i-table ./table-no-ecmu-hits.qza \\\n",
    "    --i-taxonomy ./taxonomy.qza \\\n",
    "    --m-metadata-file ./metadata.tsv \\\n",
    "    --o-visualization ./table-no-ecmu-hits-taxa-barplot.qzv"
   ]
  },
  {
   "cell_type": "code",
   "execution_count": 32,
   "metadata": {},
   "outputs": [
    {
     "name": "stderr",
     "output_type": "stream",
     "text": [
      "python(34698) MallocStackLogging: can't turn off malloc stack logging because it was not enabled.\n"
     ]
    },
    {
     "name": "stdout",
     "output_type": "stream",
     "text": [
      "\u001b[31m\u001b[1mError: QIIME 2 has no plugin/command named 'krona'.\u001b[0m\r\n"
     ]
    }
   ],
   "source": [
    "# updated krona plot\n",
    "! qiime krona collapse-and-plot \\\n",
    "    --i-table ./table-no-ecmu-hits.qza \\\n",
    "    --i-taxonomy ./taxonomy.qza \\\n",
    "    --o-krona-plot ./table-no-ecmu-hits-taxa-krona.qzv"
   ]
  },
  {
   "cell_type": "code",
   "execution_count": 33,
   "metadata": {},
   "outputs": [
    {
     "name": "stderr",
     "output_type": "stream",
     "text": [
      "python(34699) MallocStackLogging: can't turn off malloc stack logging because it was not enabled.\n"
     ]
    },
    {
     "name": "stdout",
     "output_type": "stream",
     "text": [
      "\u001b[32mSaved FeatureTable[Frequency] to: ./table-no-ecmu-hits-genotype.qza\u001b[0m\n",
      "\u001b[0m"
     ]
    }
   ],
   "source": [
    "! qiime feature-table group \\\n",
    "    --i-table ./table-no-ecmu-hits.qza \\\n",
    "    --m-metadata-file ./metadata.tsv \\\n",
    "    --m-metadata-column 'genotype' \\\n",
    "    --p-mode 'mean-ceiling' \\\n",
    "    --p-axis 'sample'\\\n",
    "    --o-grouped-table ./table-no-ecmu-hits-genotype.qza"
   ]
  },
  {
   "cell_type": "raw",
   "metadata": {},
   "source": [
    "! qiime taxa barplot \\\n",
    " ... "
   ]
  },
  {
   "cell_type": "markdown",
   "metadata": {},
   "source": [
    "#### krona collapse by group "
   ]
  },
  {
   "cell_type": "code",
   "execution_count": 34,
   "metadata": {},
   "outputs": [
    {
     "name": "stderr",
     "output_type": "stream",
     "text": [
      "python(34702) MallocStackLogging: can't turn off malloc stack logging because it was not enabled.\n"
     ]
    },
    {
     "name": "stdout",
     "output_type": "stream",
     "text": [
      "\u001b[32mSaved FeatureTable[Frequency] to: ./table-no-ecmu-hits-donor.qza\u001b[0m\n",
      "\u001b[0m"
     ]
    }
   ],
   "source": [
    "! qiime feature-table group \\\n",
    "    --i-table ./table-no-ecmu-hits.qza \\\n",
    "    --p-axis sample \\\n",
    "    --m-metadata-file ./metadata.tsv \\\n",
    "    --m-metadata-column donor \\\n",
    "    --p-mode 'mean-ceiling' \\\n",
    "    --o-grouped-table ./table-no-ecmu-hits-donor.qza"
   ]
  },
  {
   "cell_type": "code",
   "execution_count": 14,
   "metadata": {},
   "outputs": [
    {
     "name": "stdout",
     "output_type": "stream",
     "text": [
      "\u001b[32mSaved Visualization to: ./table-no-ecmu-hits-donor-taxa-krona.qzv\u001b[0m\n",
      "\u001b[0m"
     ]
    }
   ],
   "source": [
    "! qiime krona collapse-and-plot \\\n",
    "    --i-table ./table-no-ecmu-hits-donor.qza \\\n",
    "    --i-taxonomy ./taxonomy.qza \\\n",
    "    --o-krona-plot ./table-no-ecmu-hits-donor-taxa-krona.qzv"
   ]
  },
  {
   "cell_type": "code",
   "execution_count": null,
   "metadata": {},
   "outputs": [],
   "source": []
  },
  {
   "cell_type": "markdown",
   "metadata": {},
   "source": [
    "## Construct phylogeny\n",
    "\n",
    "See the [Inferring Phylogenies tutorial](https://docs.qiime2.org/2022.11/tutorials/phylogeny/) for more information.\n",
    "\n",
    "We'll run [FastTree](https://docs.qiime2.org/2022.11/tutorials/phylogeny/#fasttree) to be quick, though I'd recomend [iqtree](https://docs.qiime2.org/2022.11/tutorials/phylogeny/#iqtree) or [fragment-insertion](https://library.qiime2.org/plugins/q2-fragment-insertion/16/).\n",
    "\n",
    "We'll be using the [align-to-tree-mafft-fasttree](https://docs.qiime2.org/2022.11/tutorials/phylogeny/#pipelines) pipeline."
   ]
  },
  {
   "cell_type": "markdown",
   "metadata": {},
   "source": [
    "### *de novo phylogeny*\n",
    "\n",
    "View with [iTOL](https://itol.embl.de/) or [Empress](https://github.com/biocore/empress)."
   ]
  },
  {
   "cell_type": "code",
   "execution_count": 35,
   "metadata": {
    "scrolled": true
   },
   "outputs": [
    {
     "name": "stderr",
     "output_type": "stream",
     "text": [
      "python(34910) MallocStackLogging: can't turn off malloc stack logging because it was not enabled.\n"
     ]
    },
    {
     "name": "stdout",
     "output_type": "stream",
     "text": [
      "Running external command line application. This may print messages to stdout and/or stderr.\n",
      "The command being run is below. This command cannot be manually re-run as it will depend on temporary files that no longer exist.\n",
      "\n",
      "Command: mafft --preservecase --inputorder --thread 1 /var/folders/2y/702nfmtx76sd29583bwt4gp00000gn/T/qiime2/fatimamubeenshaik/data/f1275e36-7957-4ba1-bd88-65fdfe10abd3/data/dna-sequences.fasta\n",
      "\n",
      "inputfile = orig\n",
      "263 x 150 - 150 d\n",
      "nthread = 1\n",
      "nthreadpair = 1\n",
      "nthreadtb = 1\n",
      "ppenalty_ex = 0\n",
      "stacksize: 8192 kb\n",
      "generating a scoring matrix for nucleotide (dist=200) ... done\n",
      "Gap Penalty = -1.53, +0.00, +0.00\n",
      "\n",
      "\n",
      "\n",
      "Making a distance matrix ..\n",
      "  201 / 263 (thread    0)\n",
      "done.\n",
      "\n",
      "Constructing a UPGMA tree (efffree=0) ... \n",
      "  260 / 263\n",
      "done.\n",
      "\n",
      "Progressive alignment 1/2... \n",
      "STEP   148 / 262 (thread    0)\n",
      "Reallocating..done. *alloclen = 1301\n",
      "STEP   262 / 262 (thread    0) h\n",
      "done.\n",
      "\n",
      "Making a distance matrix from msa.. \n",
      "  200 / 263 (thread    0)\n",
      "done.\n",
      "\n",
      "Constructing a UPGMA tree (efffree=1) ... \n",
      "  260 / 263\n",
      "done.\n",
      "\n",
      "Progressive alignment 2/2... \n",
      "STEP   209 / 262 (thread    0)\n",
      "Reallocating..done. *alloclen = 1301\n",
      "STEP   262 / 262 (thread    0) h\n",
      "done.\n",
      "\n",
      "disttbfast (nuc) Version 7.520\n",
      "alg=A, model=DNA200 (2), 1.53 (4.59), -0.00 (-0.00), noshift, amax=0.0\n",
      "1 thread(s)\n",
      "\n",
      "\n",
      "Strategy:\n",
      " FFT-NS-2 (Fast but rough)\n",
      " Progressive method (guide trees were built 2 times.)\n",
      "\n",
      "If unsure which option to use, try 'mafft --auto input > output'.\n",
      "For more information, see 'mafft --help', 'mafft --man' and the mafft page.\n",
      "\n",
      "The default gap scoring scheme has been changed in version 7.110 (2013 Oct).\n",
      "It tends to insert more gaps into gap-rich regions than previous versions.\n",
      "To disable this change, add the --leavegappyregion option.\n",
      "\n",
      "Running external command line application. This may print messages to stdout and/or stderr.\n",
      "The command being run is below. This command cannot be manually re-run as it will depend on temporary files that no longer exist.\n",
      "\n",
      "Command: FastTree -quote -nt /var/folders/2y/702nfmtx76sd29583bwt4gp00000gn/T/qiime2/fatimamubeenshaik/data/4a3a3b7b-ecd9-4712-a090-82e06777074b/data/aligned-dna-sequences.fasta\n",
      "\n",
      "FastTree Version 2.1.11 Double precision (No SSE3)\n",
      "Alignment: /var/folders/2y/702nfmtx76sd29583bwt4gp00000gn/T/qiime2/fatimamubeenshaik/data/4a3a3b7b-ecd9-4712-a090-82e06777074b/data/aligned-dna-sequences.fasta\n",
      "Nucleotide distances: Jukes-Cantor Joins: balanced Support: SH-like 1000\n",
      "Search: Normal +NNI +SPR (2 rounds range 10) +ML-NNI opt-each=1\n",
      "TopHits: 1.00*sqrtN close=default refresh=0.80\n",
      "ML Model: Jukes-Cantor, CAT approximation with 20 rate categories\n",
      "Initial topology in 0.04 seconds\n",
      "Refining topology: 32 rounds ME-NNIs, 2 rounds ME-SPRs, 16 rounds ML-NNIs\n",
      "Total branch-length 13.619 after 0.31 sec 101 of 516 nodes   \n",
      "ML-NNI round 1: LogLk = -11192.283 NNIs 44 max delta 8.47 Time 0.44\n",
      "Switched to using 20 rate categories (CAT approximation)1 of 20   \n",
      "Rate categories were divided by 1.025 so that average rate = 1.0\n",
      "CAT-based log-likelihoods may not be comparable across runs\n",
      "Use -gamma for approximate but comparable Gamma(20) log-likelihoods\n",
      "ML-NNI round 2: LogLk = -9472.571 NNIs 38 max delta 2.61 Time 0.53\n",
      "ML-NNI round 3: LogLk = -9465.861 NNIs 12 max delta 1.30 Time 0.59nges (max delta 0.487)   \n",
      "ML-NNI round 4: LogLk = -9465.649 NNIs 4 max delta 0.00 Time 0.63\n",
      "Turning off heuristics for final round of ML NNIs (converged)\n",
      "ML-NNI round 5: LogLk = -9460.802 NNIs 5 max delta 0.12 Time 0.74 (final)ax delta 0.120)   \n",
      "Optimize all lengths: LogLk = -9460.305 Time 0.80  \n",
      "Total time: 0.96 seconds Unique: 259/263 Bad splits: 0/256ternal splits   \n",
      "\u001b[32mSaved FeatureData[AlignedSequence] to: ./mafft-fasttree-output/alignment.qza\u001b[0m\n",
      "\u001b[32mSaved FeatureData[AlignedSequence] to: ./mafft-fasttree-output/masked_alignment.qza\u001b[0m\n",
      "\u001b[32mSaved Phylogeny[Unrooted] to: ./mafft-fasttree-output/tree.qza\u001b[0m\n",
      "\u001b[32mSaved Phylogeny[Rooted] to: ./mafft-fasttree-output/rooted_tree.qza\u001b[0m\n",
      "\u001b[0m"
     ]
    }
   ],
   "source": [
    "# pipeline: alignment through phylogeny\n",
    "! qiime phylogeny align-to-tree-mafft-fasttree \\\n",
    "    --i-sequences ./hits.qza \\\n",
    "    --output-dir ./mafft-fasttree-output \\\n",
    "    --verbose"
   ]
  },
  {
   "cell_type": "markdown",
   "metadata": {},
   "source": [
    "### Another phylogenetic approach: Fragment Insertion"
   ]
  },
  {
   "cell_type": "raw",
   "metadata": {},
   "source": [
    "! wget https://data.qiime2.org/2022.11/common/sepp-refs-silva-128.qza -O ./references/sepp-refs-silva-128.qza "
   ]
  },
  {
   "cell_type": "code",
   "execution_count": 27,
   "metadata": {},
   "outputs": [
    {
     "name": "stdout",
     "output_type": "stream",
     "text": [
      "--2024-04-07 17:44:04--  https://data.qiime2.org/2022.11/common/sepp-refs-silva-128.qza\n",
      "Resolving data.qiime2.org (data.qiime2.org)... 54.200.1.12\n",
      "Connecting to data.qiime2.org (data.qiime2.org)|54.200.1.12|:443... connected.\n",
      "HTTP request sent, awaiting response... "
     ]
    },
    {
     "name": "stderr",
     "output_type": "stream",
     "text": [
      "python(34648) MallocStackLogging: can't turn off malloc stack logging because it was not enabled.\n"
     ]
    },
    {
     "name": "stdout",
     "output_type": "stream",
     "text": [
      "302 FOUND\n",
      "Location: https://s3-us-west-2.amazonaws.com/qiime2-data/2022.11/common/sepp-refs-silva-128.qza [following]\n",
      "--2024-04-07 17:44:04--  https://s3-us-west-2.amazonaws.com/qiime2-data/2022.11/common/sepp-refs-silva-128.qza\n",
      "Resolving s3-us-west-2.amazonaws.com (s3-us-west-2.amazonaws.com)... 52.92.250.248, 52.92.242.40, 52.92.136.104, ...\n",
      "Connecting to s3-us-west-2.amazonaws.com (s3-us-west-2.amazonaws.com)|52.92.250.248|:443... connected.\n",
      "HTTP request sent, awaiting response... 200 OK\n",
      "Length: 181253322 (173M) [binary/octet-stream]\n",
      "Saving to: ‘./references/sepp-refs-silva-128.qza’\n",
      "\n",
      "./references/sepp-r 100%[===================>] 172.86M  31.4MB/s    in 5.2s    \n",
      "\n",
      "2024-04-07 17:44:10 (33.0 MB/s) - ‘./references/sepp-refs-silva-128.qza’ saved [181253322/181253322]\n",
      "\n"
     ]
    }
   ],
   "source": [
    "! wget https://data.qiime2.org/2022.11/common/sepp-refs-silva-128.qza -O ./references/sepp-refs-silva-128.qza "
   ]
  },
  {
   "cell_type": "code",
   "execution_count": 36,
   "metadata": {},
   "outputs": [],
   "source": [
    "sepp_ref='/Users/fatimamubeenshaik/IdeaProjects/ParkinsonMouseTrail/src/main/processed/references/sepp-refs-silva-128.qza'"
   ]
  },
  {
   "cell_type": "code",
   "execution_count": 37,
   "metadata": {},
   "outputs": [
    {
     "name": "stderr",
     "output_type": "stream",
     "text": [
      "python(35026) MallocStackLogging: can't turn off malloc stack logging because it was not enabled.\n"
     ]
    },
    {
     "name": "stdout",
     "output_type": "stream",
     "text": [
      "\u001b[32mSaved Phylogeny[Rooted] to: ./tree.qza\u001b[0m\n",
      "\u001b[32mSaved Placements to: ./tree_placements.qza\u001b[0m\n",
      "\u001b[0m"
     ]
    }
   ],
   "source": [
    "! qiime fragment-insertion sepp \\\n",
    "    --i-representative-sequences ./hits.qza \\\n",
    "    --i-reference-database $sepp_ref \\\n",
    "    --o-tree ./tree.qza \\\n",
    "    --o-placements ./tree_placements.qza \\\n",
    "    --p-threads 8"
   ]
  },
  {
   "cell_type": "code",
   "execution_count": 38,
   "metadata": {},
   "outputs": [
    {
     "name": "stderr",
     "output_type": "stream",
     "text": [
      "python(38609) MallocStackLogging: can't turn off malloc stack logging because it was not enabled.\n"
     ]
    },
    {
     "name": "stdout",
     "output_type": "stream",
     "text": [
      "\u001b[32mSaved FeatureTable[Frequency] to: ./table-no-ecmu-fi.qza\u001b[0m\n",
      "\u001b[32mSaved FeatureTable[Frequency] to: ./table-no-ecmu-nofi.qza\u001b[0m\n",
      "\u001b[0m"
     ]
    }
   ],
   "source": [
    "!  qiime fragment-insertion filter-features \\\n",
    "    --i-table ./table-no-ecmu-hits.qza \\\n",
    "    --i-tree ./tree.qza \\\n",
    "    --o-filtered-table ./table-no-ecmu-fi.qza \\\n",
    "    --o-removed-table ./table-no-ecmu-nofi.qza"
   ]
  },
  {
   "cell_type": "code",
   "execution_count": 39,
   "metadata": {},
   "outputs": [
    {
     "name": "stderr",
     "output_type": "stream",
     "text": [
      "python(38611) MallocStackLogging: can't turn off malloc stack logging because it was not enabled.\n"
     ]
    },
    {
     "name": "stdout",
     "output_type": "stream",
     "text": [
      "\u001b[32mSaved FeatureData[Sequence] to: repset-no-ecmu-fi.qza\u001b[0m\n",
      "\u001b[0m"
     ]
    }
   ],
   "source": [
    "! qiime feature-table filter-seqs \\\n",
    "    --i-data ./hits.qza \\\n",
    "    --i-table ./table-no-ecmu-fi.qza \\\n",
    "    --o-filtered-data repset-no-ecmu-fi.qza"
   ]
  },
  {
   "cell_type": "markdown",
   "metadata": {},
   "source": [
    "## [Empress](https://github.com/biocore/empress)"
   ]
  },
  {
   "cell_type": "code",
   "execution_count": 40,
   "metadata": {},
   "outputs": [
    {
     "name": "stderr",
     "output_type": "stream",
     "text": [
      "python(38613) MallocStackLogging: can't turn off malloc stack logging because it was not enabled.\n"
     ]
    },
    {
     "name": "stdout",
     "output_type": "stream",
     "text": [
      "\u001b[31m\u001b[1mError: QIIME 2 has no plugin/command named 'empress'.\u001b[0m\r\n"
     ]
    }
   ],
   "source": [
    "!qiime empress tree-plot \\\n",
    "    --i-tree ./mafft-fasttree-output/rooted_tree.qza \\\n",
    "    --m-feature-metadata-file ./taxonomy.qza \\\n",
    "    --o-visualization ./tree-viz.qzv"
   ]
  },
  {
   "cell_type": "code",
   "execution_count": 41,
   "metadata": {},
   "outputs": [
    {
     "ename": "ValueError",
     "evalue": "tree-viz.qzv does not exist.",
     "output_type": "error",
     "traceback": [
      "\u001b[0;31m---------------------------------------------------------------------------\u001b[0m",
      "\u001b[0;31mValueError\u001b[0m                                Traceback (most recent call last)",
      "Cell \u001b[0;32mIn[41], line 1\u001b[0m\n\u001b[0;32m----> 1\u001b[0m \u001b[43mq2\u001b[49m\u001b[38;5;241;43m.\u001b[39;49m\u001b[43mVisualization\u001b[49m\u001b[38;5;241;43m.\u001b[39;49m\u001b[43mload\u001b[49m\u001b[43m(\u001b[49m\u001b[38;5;124;43m'\u001b[39;49m\u001b[38;5;124;43m./tree-viz.qzv\u001b[39;49m\u001b[38;5;124;43m'\u001b[39;49m\u001b[43m)\u001b[49m\n",
      "File \u001b[0;32m~/miniconda3/envs/qiime2-dev/lib/python3.8/site-packages/qiime2/sdk/result.py:75\u001b[0m, in \u001b[0;36mResult.load\u001b[0;34m(cls, filepath)\u001b[0m\n\u001b[1;32m     71\u001b[0m \u001b[38;5;66;03m# Check if the data is already in the cache (if the uuid is in\u001b[39;00m\n\u001b[1;32m     72\u001b[0m \u001b[38;5;66;03m# cache.data) and load it from the cache if it is. Avoids unzipping the\u001b[39;00m\n\u001b[1;32m     73\u001b[0m \u001b[38;5;66;03m# qza again if we already have it.\u001b[39;00m\n\u001b[1;32m     74\u001b[0m cache \u001b[38;5;241m=\u001b[39m get_cache()\n\u001b[0;32m---> 75\u001b[0m peek \u001b[38;5;241m=\u001b[39m \u001b[38;5;28;43mcls\u001b[39;49m\u001b[38;5;241;43m.\u001b[39;49m\u001b[43mpeek\u001b[49m\u001b[43m(\u001b[49m\u001b[43mfilepath\u001b[49m\u001b[43m)\u001b[49m\n\u001b[1;32m     76\u001b[0m archiver \u001b[38;5;241m=\u001b[39m cache\u001b[38;5;241m.\u001b[39m_load_uuid(peek\u001b[38;5;241m.\u001b[39muuid)\n\u001b[1;32m     78\u001b[0m \u001b[38;5;28;01mif\u001b[39;00m \u001b[38;5;129;01mnot\u001b[39;00m archiver:\n",
      "File \u001b[0;32m~/miniconda3/envs/qiime2-dev/lib/python3.8/site-packages/qiime2/sdk/result.py:59\u001b[0m, in \u001b[0;36mResult.peek\u001b[0;34m(cls, filepath)\u001b[0m\n\u001b[1;32m     57\u001b[0m \u001b[38;5;129m@classmethod\u001b[39m\n\u001b[1;32m     58\u001b[0m \u001b[38;5;28;01mdef\u001b[39;00m \u001b[38;5;21mpeek\u001b[39m(\u001b[38;5;28mcls\u001b[39m, filepath):\n\u001b[0;32m---> 59\u001b[0m     \u001b[38;5;28;01mreturn\u001b[39;00m ResultMetadata(\u001b[38;5;241m*\u001b[39m\u001b[43marchive\u001b[49m\u001b[38;5;241;43m.\u001b[39;49m\u001b[43mArchiver\u001b[49m\u001b[38;5;241;43m.\u001b[39;49m\u001b[43mpeek\u001b[49m\u001b[43m(\u001b[49m\u001b[43mfilepath\u001b[49m\u001b[43m)\u001b[49m)\n",
      "File \u001b[0;32m~/miniconda3/envs/qiime2-dev/lib/python3.8/site-packages/qiime2/core/archive/archiver.py:336\u001b[0m, in \u001b[0;36mArchiver.peek\u001b[0;34m(cls, filepath)\u001b[0m\n\u001b[1;32m    334\u001b[0m \u001b[38;5;129m@classmethod\u001b[39m\n\u001b[1;32m    335\u001b[0m \u001b[38;5;28;01mdef\u001b[39;00m \u001b[38;5;21mpeek\u001b[39m(\u001b[38;5;28mcls\u001b[39m, filepath):\n\u001b[0;32m--> 336\u001b[0m     archive \u001b[38;5;241m=\u001b[39m \u001b[38;5;28;43mcls\u001b[39;49m\u001b[38;5;241;43m.\u001b[39;49m\u001b[43mget_archive\u001b[49m\u001b[43m(\u001b[49m\u001b[43mfilepath\u001b[49m\u001b[43m)\u001b[49m\n\u001b[1;32m    337\u001b[0m     Format \u001b[38;5;241m=\u001b[39m \u001b[38;5;28mcls\u001b[39m\u001b[38;5;241m.\u001b[39mget_format_class(archive\u001b[38;5;241m.\u001b[39mversion)\n\u001b[1;32m    338\u001b[0m     \u001b[38;5;28;01mif\u001b[39;00m Format \u001b[38;5;129;01mis\u001b[39;00m \u001b[38;5;28;01mNone\u001b[39;00m:\n",
      "File \u001b[0;32m~/miniconda3/envs/qiime2-dev/lib/python3.8/site-packages/qiime2/core/archive/archiver.py:315\u001b[0m, in \u001b[0;36mArchiver.get_archive\u001b[0;34m(cls, filepath)\u001b[0m\n\u001b[1;32m    313\u001b[0m filepath \u001b[38;5;241m=\u001b[39m pathlib\u001b[38;5;241m.\u001b[39mPath(filepath)\n\u001b[1;32m    314\u001b[0m \u001b[38;5;28;01mif\u001b[39;00m \u001b[38;5;129;01mnot\u001b[39;00m filepath\u001b[38;5;241m.\u001b[39mexists():\n\u001b[0;32m--> 315\u001b[0m     \u001b[38;5;28;01mraise\u001b[39;00m \u001b[38;5;167;01mValueError\u001b[39;00m(\u001b[38;5;124m\"\u001b[39m\u001b[38;5;132;01m%s\u001b[39;00m\u001b[38;5;124m does not exist.\u001b[39m\u001b[38;5;124m\"\u001b[39m \u001b[38;5;241m%\u001b[39m filepath)\n\u001b[1;32m    317\u001b[0m \u001b[38;5;28;01mif\u001b[39;00m _ZipArchive\u001b[38;5;241m.\u001b[39mis_archive_type(filepath):\n\u001b[1;32m    318\u001b[0m     archive \u001b[38;5;241m=\u001b[39m _ZipArchive(filepath)\n",
      "\u001b[0;31mValueError\u001b[0m: tree-viz.qzv does not exist."
     ]
    }
   ],
   "source": [
    "q2.Visualization.load('./tree-viz.qzv')"
   ]
  },
  {
   "cell_type": "code",
   "execution_count": null,
   "metadata": {},
   "outputs": [],
   "source": [
    "! qiime empress community-plot \\\n",
    "    --i-tree ./mafft-fasttree-output/rooted_tree.qza \\\n",
    "    --i-feature-table ./table-no-ecmu-hits.qza \\\n",
    "    --m-sample-metadata-file ./metadata.tsv \\\n",
    "    --m-feature-metadata-file ./taxonomy.qza \\\n",
    "    --o-visualization tree-tax-table.qzv"
   ]
  },
  {
   "cell_type": "code",
   "execution_count": null,
   "metadata": {},
   "outputs": [],
   "source": [
    "q2.Visualization.load('./tree-tax-table.qzv')"
   ]
  },
  {
   "cell_type": "code",
   "execution_count": null,
   "metadata": {},
   "outputs": [],
   "source": []
  }
 ],
 "metadata": {
  "kernelspec": {
   "display_name": "Python 3 (ipykernel)",
   "language": "python",
   "name": "python3"
  },
  "language_info": {
   "codemirror_mode": {
    "name": "ipython",
    "version": 3
   },
   "file_extension": ".py",
   "mimetype": "text/x-python",
   "name": "python",
   "nbconvert_exporter": "python",
   "pygments_lexer": "ipython3",
   "version": "3.8.18"
  }
 },
 "nbformat": 4,
 "nbformat_minor": 4
}
