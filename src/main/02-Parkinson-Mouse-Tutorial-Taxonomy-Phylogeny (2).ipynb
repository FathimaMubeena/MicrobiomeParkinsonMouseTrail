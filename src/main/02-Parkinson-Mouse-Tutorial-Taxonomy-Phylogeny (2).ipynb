{
 "cells": [
  {
   "cell_type": "markdown",
   "metadata": {},
   "source": [
    "# Parkinson's Mouse Tutorial - Taxonomy Assignment\n",
    "\n",
    "Run this notebook in `qiime2-2022.11`.\n",
    "\n",
    "Continuing the [pd-mouse tutorial](https://docs.qiime2.org/2022.11/tutorials/pd-mice/). Specifically the [Taxonomy](https://docs.qiime2.org/2022.11/tutorials/pd-mice/#taxonomic-classification), and [Phylogeny](https://docs.qiime2.org/2022.11/tutorials/pd-mice/#generating-a-phylogenetic-tree-for-diversity-analysis) steps. *Note we'll use a *de novo* [align-to-tree-mafft-fasttree ](https://docs.qiime2.org/2022.11/tutorials/phylogeny/#pipelines) step so we can run through this tutorial quicker.*"
   ]
  },
  {
   "cell_type": "code",
   "execution_count": 12,
   "metadata": {},
   "outputs": [],
   "source": [
    "from os import getcwd, listdir, chdir, mkdir\n",
    "import qiime2 as q2"
   ]
  },
  {
   "cell_type": "code",
   "execution_count": 13,
   "metadata": {},
   "outputs": [
    {
     "data": {
      "text/plain": [
       "'/home/fmshaik/BMIG-62033/processed'"
      ]
     },
     "execution_count": 13,
     "metadata": {},
     "output_type": "execute_result"
    }
   ],
   "source": [
    "getcwd()"
   ]
  },
  {
   "cell_type": "code",
   "execution_count": 15,
   "metadata": {},
   "outputs": [
    {
     "data": {
      "text/plain": [
       "'/home/fmshaik/BMIG-62033/processed'"
      ]
     },
     "execution_count": 15,
     "metadata": {},
     "output_type": "execute_result"
    }
   ],
   "source": [
    "chdir('/home/fmshaik/BMIG-62033/processed')\n",
    "getcwd()"
   ]
  },
  {
   "cell_type": "markdown",
   "metadata": {},
   "source": [
    "## Download classifiers if runing on your laptop:\n",
    "\n",
    "We'll assign taxonomy using SILVA. Can obtain classifiers from the [Data Resource Page](https://docs.qiime2.org/2022.11/data-resources/)."
   ]
  },
  {
   "cell_type": "raw",
   "metadata": {},
   "source": [
    "mkdir('silva-classifiers')"
   ]
  },
  {
   "cell_type": "raw",
   "metadata": {},
   "source": [
    "! wget https://data.qiime2.org/2022.11/common/silva-138-99-515-806-nb-classifier.qza \\\n",
    "    -O ./silva-classifiers/silva-138-99-515-806-nb-classifier.qza"
   ]
  },
  {
   "cell_type": "markdown",
   "metadata": {},
   "source": [
    "## If you are running on the HPC the classifiers are located at:\n",
    " - `/home/SE/BMIG-6202-MSR/RefDBs/q2-2022.11/silva-138-1-ssu-nr99-515f-806r-classifier.qza`\n",
    " - `/home/SE/BMIG-6202-MSR/RefDBs/q2-2022.11/silva-138-1-ssu-nr99-classifier.qza`\n",
    " \n",
    " You can setup a shortcut like this:\n",
    "\n",
    "V4:\n",
    "`silva_classifier='/home/SE/BMIG-6202-MSR/RefDBs/q2-2023.9/silva-138-1-ssu-nr99-515f-806r-classifier.qza'`\n",
    "\n",
    "V3V4:\n",
    "`silva_classifier='/home/SE/BMIG-6202-MSR/RefDBs/q2-2023.9/silva-138-1-ssu-nr99-357f-785r-classifier.qza'`"
   ]
  },
  {
   "cell_type": "code",
   "execution_count": null,
   "metadata": {},
   "outputs": [],
   "source": [
    "silva_classifier='/home/SE/BMIG-6202-MSR/RefDBs/q2-2023.9/with-species/silva-138-1-ssu-nr99-sl-515f-806r-classifier.qza'"
   ]
  },
  {
   "cell_type": "markdown",
   "metadata": {},
   "source": [
    "## Classify sequences / reads\n",
    "\n",
    "In the command below, I'll be running on the HPC using the shortcut `$silva_classifier`."
   ]
  },
  {
   "cell_type": "code",
   "execution_count": 16,
   "metadata": {},
   "outputs": [
    {
     "name": "stdout",
     "output_type": "stream",
     "text": [
      "\u001b[32mSaved FeatureData[Taxonomy] to: ./taxonomy.qza\u001b[0m\n",
      "\u001b[0m"
     ]
    }
   ],
   "source": [
    "! qiime feature-classifier classify-sklearn \\\n",
    "    --i-reads ./dada2_rep_set.qza \\\n",
    "    --i-classifier $silva_classifier \\\n",
    "    --p-n-jobs 2 \\\n",
    "    --o-classification ./taxonomy.qza"
   ]
  },
  {
   "cell_type": "code",
   "execution_count": 17,
   "metadata": {},
   "outputs": [
    {
     "name": "stdout",
     "output_type": "stream",
     "text": [
      "\u001b[32mSaved Visualization to: ./taxonomy.qzv\u001b[0m\n",
      "\u001b[0m"
     ]
    }
   ],
   "source": [
    "# View list of classifications\n",
    "! qiime metadata tabulate \\\n",
    "    --m-input-file ./taxonomy.qza \\\n",
    "    --o-visualization ./taxonomy.qzv"
   ]
  },
  {
   "cell_type": "raw",
   "metadata": {},
   "source": [
    "q2.Visualization.load('taxonomy.qzv')"
   ]
  },
  {
   "cell_type": "code",
   "execution_count": 18,
   "metadata": {},
   "outputs": [
    {
     "name": "stdout",
     "output_type": "stream",
     "text": [
      "\u001b[32mSaved Visualization to: ./taxa_barplot.qzv\u001b[0m\n",
      "\u001b[0m"
     ]
    }
   ],
   "source": [
    "# View a taxonomy barplot\n",
    "! qiime taxa barplot \\\n",
    "    --i-table ./dada2_table.qza \\\n",
    "    --i-taxonomy ./taxonomy.qza \\\n",
    "    --m-metadata-file ./metadata.tsv \\\n",
    "    --o-visualization ./taxa_barplot.qzv"
   ]
  },
  {
   "cell_type": "raw",
   "metadata": {},
   "source": [
    "q2.Visualization.load('taxa_barplot.qzv')"
   ]
  },
  {
   "cell_type": "markdown",
   "metadata": {},
   "source": [
    "## Remove poorly classified reads\n",
    "\n",
    "[Filtering Documentation](https://docs.qiime2.org/2020.11/tutorials/filtering/)"
   ]
  },
  {
   "cell_type": "code",
   "execution_count": 19,
   "metadata": {},
   "outputs": [
    {
     "name": "stdout",
     "output_type": "stream",
     "text": [
      "\u001b[32mSaved FeatureTable[Frequency] to: ./table-no-ecmu.qza\u001b[0m\n",
      "\u001b[0m"
     ]
    }
   ],
   "source": [
    "! qiime taxa filter-table \\\n",
    "    --i-table ./dada2_table.qza \\\n",
    "    --i-taxonomy ./taxonomy.qza \\\n",
    "    --p-mode 'contains'  \\\n",
    "    --p-include 'p__' \\\n",
    "    --p-exclude 'p__;,Eukaryota,Chloroplast,Mitochondria' \\\n",
    "    --o-filtered-table ./table-no-ecmu.qza"
   ]
  },
  {
   "cell_type": "code",
   "execution_count": null,
   "metadata": {},
   "outputs": [],
   "source": [
    "! qiime metadata tabulate \\\n",
    "    --m-input-file ./taxonomy.qza \\\n",
    "    --o-visualization ./taxonomy.qzv"
   ]
  },
  {
   "cell_type": "code",
   "execution_count": 23,
   "metadata": {},
   "outputs": [
    {
     "name": "stdout",
     "output_type": "stream",
     "text": [
      "\u001b[32mSaved Visualization to: ./table-no-ecmu.qzv\u001b[0m\n",
      "\u001b[0m"
     ]
    }
   ],
   "source": [
    "# summarize ESV table\n",
    "! qiime feature-table summarize \\\n",
    "    --i-table ./table-no-ecmu.qza \\\n",
    "    --m-sample-metadata-file ./metadata.tsv \\\n",
    "    --o-visualization ./table-no-ecmu.qzv"
   ]
  },
  {
   "cell_type": "code",
   "execution_count": 27,
   "metadata": {},
   "outputs": [
    {
     "name": "stdout",
     "output_type": "stream",
     "text": [
      "\u001b[32mSaved FeatureData[Sequence] to: rep_set-no-ecmu.qza\u001b[0m\n",
      "\u001b[0m"
     ]
    }
   ],
   "source": [
    " #keep seq file in sync with table! \n",
    "! qiime feature-table filter-seqs \\\n",
    "    --i-data ./dada2_rep_set.qza \\\n",
    "    --i-table ./table-no-ecmu.qza \\\n",
    "    --o-filtered-data rep_set-no-ecmu.qza"
   ]
  },
  {
   "cell_type": "code",
   "execution_count": 28,
   "metadata": {},
   "outputs": [
    {
     "name": "stdout",
     "output_type": "stream",
     "text": [
      "\u001b[32mExported rep_set-no-ecmu.qza as DNASequencesDirectoryFormat to directory rep_set-no-ecmu-export\u001b[0m\n",
      "\u001b[0m"
     ]
    }
   ],
   "source": [
    "! qiime tools export \\\n",
    "    --input-path rep_set-no-ecmu.qza \\\n",
    "    --output-path rep_set-no-ecmu-export"
   ]
  },
  {
   "cell_type": "code",
   "execution_count": 29,
   "metadata": {},
   "outputs": [
    {
     "name": "stdout",
     "output_type": "stream",
     "text": [
      "\u001b[32mSaved Visualization to: ./table-no-ecmu-taxa-barplot.qzv\u001b[0m\n",
      "\u001b[0m"
     ]
    }
   ],
   "source": [
    "# View a taxonomy barplot\n",
    "! qiime taxa barplot \\\n",
    "    --i-table ./table-no-ecmu.qza \\\n",
    "    --i-taxonomy ./taxonomy.qza \\\n",
    "    --m-metadata-file ./metadata.tsv \\\n",
    "    --o-visualization ./table-no-ecmu-taxa-barplot.qzv"
   ]
  },
  {
   "cell_type": "raw",
   "metadata": {},
   "source": [
    "q2.Visualization.load('table-no-ecmu-taxa-barplot.qzv')"
   ]
  },
  {
   "cell_type": "markdown",
   "metadata": {},
   "source": [
    "#### krona plot"
   ]
  },
  {
   "cell_type": "code",
   "execution_count": 25,
   "metadata": {},
   "outputs": [
    {
     "name": "stdout",
     "output_type": "stream",
     "text": [
      "\u001b[32mSaved Visualization to: ./table-no-ecmu-taxa-krona.qzv\u001b[0m\n",
      "\u001b[0m"
     ]
    }
   ],
   "source": [
    "! qiime krona collapse-and-plot \\\n",
    "    --i-table ./table-no-ecmu.qza \\\n",
    "    --i-taxonomy ./taxonomy.qza \\\n",
    "    --o-krona-plot ./table-no-ecmu-taxa-krona.qzv"
   ]
  },
  {
   "cell_type": "code",
   "execution_count": null,
   "metadata": {},
   "outputs": [],
   "source": []
  },
  {
   "cell_type": "markdown",
   "metadata": {},
   "source": [
    "##  Other QA / QC Operations\n",
    "\n",
    "See [q2-quality-control tutorial](https://docs.qiime2.org/2022.11/tutorials/quality-control/)."
   ]
  },
  {
   "cell_type": "raw",
   "metadata": {},
   "source": [
    "mkdir('references')"
   ]
  },
  {
   "cell_type": "raw",
   "metadata": {},
   "source": [
    "# download pre-made SILVA refrence\n",
    "! wget https://data.qiime2.org/2022.11/common/silva-138-99-seqs-515-806.qza \\\n",
    "    -O ./references/silva-138-99-seqs-515-806.qza"
   ]
  },
  {
   "cell_type": "code",
   "execution_count": 30,
   "metadata": {},
   "outputs": [],
   "source": [
    "silva_ref_seq='/home/SE/BMIG-6202-MSR/RefDBs/q2-2023.9/with-species/silva-138-1-ssu-nr99-sl-seqs-515f-806r-cln-dr-uniq.qza'"
   ]
  },
  {
   "cell_type": "code",
   "execution_count": 31,
   "metadata": {},
   "outputs": [
    {
     "name": "stdout",
     "output_type": "stream",
     "text": [
      "Running external command line application. This may print messages to stdout and/or stderr.\n",
      "The commands to be run are below. These commands cannot be manually re-run as they will depend on temporary files that no longer exist.\n",
      "\n",
      "Command: vsearch --usearch_global /tmp/qiime2/fmshaik/data/b332decb-d1ec-4ec6-8065-a66dc437893b/data/dna-sequences.fasta --id 0.9 --strand both --maxaccepts 1 --maxrejects 0 --db /tmp/qiime2/fmshaik/data/83d90385-3fcf-4bf8-99a4-b570ef37d89e/data/dna-sequences.fasta --threads 8 --userfields query+target+ql+qlo+qhi --userout /tmp/tmpxtt2orno\n",
      "\n",
      "vsearch v2.22.1_linux_x86_64, 125.6GB RAM, 56 cores\n",
      "https://github.com/torognes/vsearch\n",
      "\n",
      "Reading file /tmp/qiime2/fmshaik/data/83d90385-3fcf-4bf8-99a4-b570ef37d89e/data/dna-sequences.fasta 100%          \n",
      "94927040 nt in 338557 seqs, min 151, max 1784, avg 280\n",
      "Masking 100%                                                                                                                                                                                                      \n",
      "Counting k-mers 100%                  \n",
      "Creating k-mer index 100%                                                                            \n",
      "Searching 100%            \n",
      "Matching unique query sequences: 263 of 264 (99.62%)\n",
      "/home/SE/BMIG-6202-MSR/qiime2-amplicon-2023.9/lib/python3.8/site-packages/q2_types/feature_data/_transformer.py:258: FutureWarning: iteritems is deprecated and will be removed in a future version. Use .items instead.\n",
      "  for id_, seq in data.iteritems():\n",
      "/home/SE/BMIG-6202-MSR/qiime2-amplicon-2023.9/lib/python3.8/site-packages/q2_types/feature_data/_transformer.py:258: FutureWarning: iteritems is deprecated and will be removed in a future version. Use .items instead.\n",
      "  for id_, seq in data.iteritems():\n",
      "\u001b[32mSaved FeatureData[Sequence] to: ./hits.qza\u001b[0m\n",
      "\u001b[32mSaved FeatureData[Sequence] to: ./misses.qza\u001b[0m\n",
      "\u001b[0m"
     ]
    }
   ],
   "source": [
    "# remove poor quality sequence that do not have a decent match to our curated reference database.\n",
    "! qiime quality-control exclude-seqs \\\n",
    "    --i-query-sequences ./rep_set-no-ecmu.qza \\\n",
    "    --i-reference-sequences $silva_ref_seq \\\n",
    "    --p-method vsearch \\\n",
    "    --p-perc-identity 0.90 \\\n",
    "    --p-perc-query-aligned 0.90 \\\n",
    "    --p-threads 8 \\\n",
    "    --o-sequence-hits ./hits.qza \\\n",
    "    --o-sequence-misses ./misses.qza \\\n",
    "    --verbose"
   ]
  },
  {
   "cell_type": "code",
   "execution_count": 32,
   "metadata": {},
   "outputs": [
    {
     "name": "stdout",
     "output_type": "stream",
     "text": [
      "\u001b[32mSaved FeatureTable[Frequency] to: ./table-no-ecmu-hits.qza\u001b[0m\n",
      "\u001b[0m"
     ]
    }
   ],
   "source": [
    "# filter table to match filtered sequence file\n",
    "! qiime feature-table filter-features \\\n",
    "    --i-table ./table-no-ecmu.qza \\\n",
    "    --m-metadata-file ./hits.qza \\\n",
    "    --o-filtered-table ./table-no-ecmu-hits.qza"
   ]
  },
  {
   "cell_type": "markdown",
   "metadata": {},
   "source": [
    "#### Given that we filtered our data again, you may want to re-generate the taxonomy plots. Use the prior taxonomy visualization commands above as a guid and run them below, with the new table:"
   ]
  },
  {
   "cell_type": "code",
   "execution_count": 33,
   "metadata": {},
   "outputs": [
    {
     "name": "stdout",
     "output_type": "stream",
     "text": [
      "\u001b[32mSaved Visualization to: ./table-no-ecmu-hits-taxa-barplot.qzv\u001b[0m\n",
      "\u001b[0m"
     ]
    }
   ],
   "source": [
    "# updated taxonomy barplot\n",
    "! qiime taxa barplot \\\n",
    "    --i-table ./table-no-ecmu-hits.qza \\\n",
    "    --i-taxonomy ./taxonomy.qza \\\n",
    "    --m-metadata-file ./metadata.tsv \\\n",
    "    --o-visualization ./table-no-ecmu-hits-taxa-barplot.qzv"
   ]
  },
  {
   "cell_type": "code",
   "execution_count": 34,
   "metadata": {},
   "outputs": [
    {
     "name": "stdout",
     "output_type": "stream",
     "text": [
      "\u001b[32mSaved Visualization to: ./table-no-ecmu-hits-taxa-krona.qzv\u001b[0m\n",
      "\u001b[0m"
     ]
    }
   ],
   "source": [
    "# updated krona plot\n",
    "! qiime krona collapse-and-plot \\\n",
    "    --i-table ./table-no-ecmu-hits.qza \\\n",
    "    --i-taxonomy ./taxonomy.qza \\\n",
    "    --o-krona-plot ./table-no-ecmu-hits-taxa-krona.qzv"
   ]
  },
  {
   "cell_type": "code",
   "execution_count": 39,
   "metadata": {},
   "outputs": [
    {
     "name": "stdout",
     "output_type": "stream",
     "text": [
      "\u001b[32mSaved FeatureTable[Frequency] to: ./table-no-ecmu-hits-genotype.qza\u001b[0m\n",
      "\u001b[0m"
     ]
    }
   ],
   "source": [
    "! qiime feature-table group \\\n",
    "    --i-table ./table-no-ecmu-hits.qza \\\n",
    "    --m-metadata-file ./metadata.tsv \\\n",
    "    --m-metadata-column 'genotype' \\\n",
    "    --p-mode 'mean-ceiling' \\\n",
    "    --p-axis 'sample'\\\n",
    "    --o-grouped-table ./table-no-ecmu-hits-genotype.qza"
   ]
  },
  {
   "cell_type": "raw",
   "metadata": {},
   "source": [
    "! qiime taxa barplot \\\n",
    " ... "
   ]
  },
  {
   "cell_type": "markdown",
   "metadata": {},
   "source": [
    "#### krona collapse by group "
   ]
  },
  {
   "cell_type": "code",
   "execution_count": 13,
   "metadata": {},
   "outputs": [
    {
     "name": "stdout",
     "output_type": "stream",
     "text": [
      "\u001b[32mSaved FeatureTable[Frequency] to: ./table-no-ecmu-hits-donor.qza\u001b[0m\n",
      "\u001b[0m"
     ]
    }
   ],
   "source": [
    "! qiime feature-table group \\\n",
    "    --i-table ./table-no-ecmu-hits.qza \\\n",
    "    --p-axis sample \\\n",
    "    --m-metadata-file ./metadata.tsv \\\n",
    "    --m-metadata-column donor \\\n",
    "    --p-mode 'mean-ceiling' \\\n",
    "    --o-grouped-table ./table-no-ecmu-hits-donor.qza"
   ]
  },
  {
   "cell_type": "code",
   "execution_count": 14,
   "metadata": {},
   "outputs": [
    {
     "name": "stdout",
     "output_type": "stream",
     "text": [
      "\u001b[32mSaved Visualization to: ./table-no-ecmu-hits-donor-taxa-krona.qzv\u001b[0m\n",
      "\u001b[0m"
     ]
    }
   ],
   "source": [
    "! qiime krona collapse-and-plot \\\n",
    "    --i-table ./table-no-ecmu-hits-donor.qza \\\n",
    "    --i-taxonomy ./taxonomy.qza \\\n",
    "    --o-krona-plot ./table-no-ecmu-hits-donor-taxa-krona.qzv"
   ]
  },
  {
   "cell_type": "code",
   "execution_count": null,
   "metadata": {},
   "outputs": [],
   "source": []
  },
  {
   "cell_type": "markdown",
   "metadata": {},
   "source": [
    "## Construct phylogeny\n",
    "\n",
    "See the [Inferring Phylogenies tutorial](https://docs.qiime2.org/2022.11/tutorials/phylogeny/) for more information.\n",
    "\n",
    "We'll run [FastTree](https://docs.qiime2.org/2022.11/tutorials/phylogeny/#fasttree) to be quick, though I'd recomend [iqtree](https://docs.qiime2.org/2022.11/tutorials/phylogeny/#iqtree) or [fragment-insertion](https://library.qiime2.org/plugins/q2-fragment-insertion/16/).\n",
    "\n",
    "We'll be using the [align-to-tree-mafft-fasttree](https://docs.qiime2.org/2022.11/tutorials/phylogeny/#pipelines) pipeline."
   ]
  },
  {
   "cell_type": "markdown",
   "metadata": {},
   "source": [
    "### *de novo phylogeny*\n",
    "\n",
    "View with [iTOL](https://itol.embl.de/) or [Empress](https://github.com/biocore/empress)."
   ]
  },
  {
   "cell_type": "code",
   "execution_count": 16,
   "metadata": {
    "scrolled": true
   },
   "outputs": [
    {
     "name": "stdout",
     "output_type": "stream",
     "text": [
      "Running external command line application. This may print messages to stdout and/or stderr.\n",
      "The command being run is below. This command cannot be manually re-run as it will depend on temporary files that no longer exist.\n",
      "\n",
      "Command: mafft --preservecase --inputorder --thread 1 /tmp/qiime2/fmshaik/data/c0d7e485-8e8f-4018-9865-3ee92164fdae/data/dna-sequences.fasta\n",
      "\n",
      "inputfile = orig\n",
      "263 x 150 - 150 d\n",
      "nthread = 1\n",
      "nthreadpair = 1\n",
      "nthreadtb = 1\n",
      "ppenalty_ex = 0\n",
      "stacksize: 8192 kb\n",
      "generating a scoring matrix for nucleotide (dist=200) ... done\n",
      "Gap Penalty = -1.53, +0.00, +0.00\n",
      "\n",
      "\n",
      "\n",
      "Making a distance matrix ..\n",
      "  201 / 263 (thread    0)\n",
      "done.\n",
      "\n",
      "Constructing a UPGMA tree (efffree=0) ... \n",
      "  260 / 263\n",
      "done.\n",
      "\n",
      "Progressive alignment 1/2... \n",
      "STEP   148 / 262 (thread    0)\n",
      "Reallocating..done. *alloclen = 1301\n",
      "STEP   262 / 262 (thread    0) h\n",
      "done.\n",
      "\n",
      "Making a distance matrix from msa.. \n",
      "  200 / 263 (thread    0)\n",
      "done.\n",
      "\n",
      "Constructing a UPGMA tree (efffree=1) ... \n",
      "  260 / 263\n",
      "done.\n",
      "\n",
      "Progressive alignment 2/2... \n",
      "STEP   209 / 262 (thread    0)\n",
      "Reallocating..done. *alloclen = 1301\n",
      "STEP   262 / 262 (thread    0) h\n",
      "done.\n",
      "\n",
      "disttbfast (nuc) Version 7.520\n",
      "alg=A, model=DNA200 (2), 1.53 (4.59), -0.00 (-0.00), noshift, amax=0.0\n",
      "1 thread(s)\n",
      "\n",
      "\n",
      "Strategy:\n",
      " FFT-NS-2 (Fast but rough)\n",
      " Progressive method (guide trees were built 2 times.)\n",
      "\n",
      "If unsure which option to use, try 'mafft --auto input > output'.\n",
      "For more information, see 'mafft --help', 'mafft --man' and the mafft page.\n",
      "\n",
      "The default gap scoring scheme has been changed in version 7.110 (2013 Oct).\n",
      "It tends to insert more gaps into gap-rich regions than previous versions.\n",
      "To disable this change, add the --leavegappyregion option.\n",
      "\n",
      "Running external command line application. This may print messages to stdout and/or stderr.\n",
      "The command being run is below. This command cannot be manually re-run as it will depend on temporary files that no longer exist.\n",
      "\n",
      "Command: FastTree -quote -nt /tmp/qiime2/fmshaik/data/0f868ec9-555f-462d-9787-c620242d3a7b/data/aligned-dna-sequences.fasta\n",
      "\n",
      "FastTree Version 2.1.11 Double precision (No SSE3)\n",
      "Alignment: /tmp/qiime2/fmshaik/data/0f868ec9-555f-462d-9787-c620242d3a7b/data/aligned-dna-sequences.fasta\n",
      "Nucleotide distances: Jukes-Cantor Joins: balanced Support: SH-like 1000\n",
      "Search: Normal +NNI +SPR (2 rounds range 10) +ML-NNI opt-each=1\n",
      "TopHits: 1.00*sqrtN close=default refresh=0.80\n",
      "ML Model: Jukes-Cantor, CAT approximation with 20 rate categories\n",
      "Initial topology in 0.08 seconds\n",
      "Refining topology: 32 rounds ME-NNIs, 2 rounds ME-SPRs, 16 rounds ML-NNIs\n",
      "Total branch-length 13.619 after 0.42 sec 201 of 516 nodes   \n",
      "ML-NNI round 1: LogLk = -11192.210 NNIs 44 max delta 8.47 Time 0.58nges (max delta 8.475)   \n",
      "Switched to using 20 rate categories (CAT approximation)\n",
      "Rate categories were divided by 1.025 so that average rate = 1.0\n",
      "CAT-based log-likelihoods may not be comparable across runs\n",
      "Use -gamma for approximate but comparable Gamma(20) log-likelihoods\n",
      "ML-NNI round 2: LogLk = -9472.650 NNIs 38 max delta 2.61 Time 0.75anges (max delta 2.602)   \n",
      "ML-NNI round 3: LogLk = -9465.895 NNIs 12 max delta 1.30 Time 0.84nges (max delta 0.487)   \n",
      "ML-NNI round 4: LogLk = -9465.674 NNIs 3 max delta 0.00 Time 0.90\n",
      "Turning off heuristics for final round of ML NNIs (converged)\n",
      "ML-NNI round 5: LogLk = -9460.634 NNIs 6 max delta 0.12 Time 1.03 (final)ax delta 0.119)   \n",
      "Optimize all lengths: LogLk = -9460.291 Time 1.06\n",
      "Total time: 1.21 seconds Unique: 259/263 Bad splits: 0/256ternal splits   \n",
      "\u001b[32mSaved FeatureData[AlignedSequence] to: ./mafft-fasttree-output/alignment.qza\u001b[0m\n",
      "\u001b[32mSaved FeatureData[AlignedSequence] to: ./mafft-fasttree-output/masked_alignment.qza\u001b[0m\n",
      "\u001b[32mSaved Phylogeny[Unrooted] to: ./mafft-fasttree-output/tree.qza\u001b[0m\n",
      "\u001b[32mSaved Phylogeny[Rooted] to: ./mafft-fasttree-output/rooted_tree.qza\u001b[0m\n",
      "\u001b[0m"
     ]
    }
   ],
   "source": [
    "# pipeline: alignment through phylogeny\n",
    "! qiime phylogeny align-to-tree-mafft-fasttree \\\n",
    "    --i-sequences ./hits.qza \\\n",
    "    --output-dir ./mafft-fasttree-output \\\n",
    "    --verbose"
   ]
  },
  {
   "cell_type": "code",
   "execution_count": null,
   "metadata": {},
   "outputs": [],
   "source": []
  },
  {
   "cell_type": "code",
   "execution_count": null,
   "metadata": {},
   "outputs": [],
   "source": []
  },
  {
   "cell_type": "markdown",
   "metadata": {},
   "source": [
    "### Another phylogenetic approach: Fragment Insertion"
   ]
  },
  {
   "cell_type": "raw",
   "metadata": {},
   "source": [
    "! wget https://data.qiime2.org/2022.11/common/sepp-refs-silva-128.qza -O ./references/sepp-refs-silva-128.qza "
   ]
  },
  {
   "cell_type": "code",
   "execution_count": 16,
   "metadata": {},
   "outputs": [],
   "source": [
    "sepp_ref='/home/SE/BMIG-6202-MSR/RefDBs/sepp-refs-silva-128.qza'"
   ]
  },
  {
   "cell_type": "code",
   "execution_count": 17,
   "metadata": {},
   "outputs": [
    {
     "name": "stdout",
     "output_type": "stream",
     "text": [
      "^C\n",
      "\n",
      "Aborted!\n",
      "\u001b[0m"
     ]
    }
   ],
   "source": [
    "! qiime fragment-insertion sepp \\\n",
    "    --i-representative-sequences ./hits.qza \\\n",
    "    --i-reference-database $sepp_ref \\\n",
    "    --o-tree ./tree.qza \\\n",
    "    --o-placements ./tree_placements.qza \\\n",
    "    --p-threads 8"
   ]
  },
  {
   "cell_type": "code",
   "execution_count": null,
   "metadata": {},
   "outputs": [],
   "source": [
    "!  qiime fragment-insertion filter-features \\\n",
    "    --i-table ./table-no-ecmu-hits.qza \\\n",
    "    --i-tree ./tree.qza \\\n",
    "    --o-filtered-table ./table-no-ecmu-fi.qza \\\n",
    "    --o-removed-table ./table-no-ecmu-nofi.qza"
   ]
  },
  {
   "cell_type": "code",
   "execution_count": null,
   "metadata": {},
   "outputs": [],
   "source": [
    "! qiime feature-table filter-seqs \\\n",
    "    --i-data ./hits.qza \\\n",
    "    --i-table ./table-no-ecmu-fi.qza \\\n",
    "    --o-filtered-data repset-no-ecmu-fi.qza"
   ]
  },
  {
   "cell_type": "markdown",
   "metadata": {},
   "source": [
    "## [Empress](https://github.com/biocore/empress)"
   ]
  },
  {
   "cell_type": "code",
   "execution_count": 18,
   "metadata": {},
   "outputs": [
    {
     "name": "stdout",
     "output_type": "stream",
     "text": [
      "\u001b[32mSaved Visualization to: ./tree-viz.qzv\u001b[0m\n",
      "\u001b[0m"
     ]
    }
   ],
   "source": [
    "!qiime empress tree-plot \\\n",
    "    --i-tree ./mafft-fasttree-output/rooted_tree.qza \\\n",
    "    --m-feature-metadata-file ./taxonomy.qza \\\n",
    "    --o-visualization ./tree-viz.qzv"
   ]
  },
  {
   "cell_type": "code",
   "execution_count": null,
   "metadata": {},
   "outputs": [],
   "source": [
    "q2.Visualization.load('./tree-viz.qzv')"
   ]
  },
  {
   "cell_type": "code",
   "execution_count": 19,
   "metadata": {},
   "outputs": [
    {
     "name": "stdout",
     "output_type": "stream",
     "text": [
      "\u001b[32mSaved Visualization to: tree-tax-table.qzv\u001b[0m\n",
      "\u001b[0m"
     ]
    }
   ],
   "source": [
    "! qiime empress community-plot \\\n",
    "    --i-tree ./mafft-fasttree-output/rooted_tree.qza \\\n",
    "    --i-feature-table ./table-no-ecmu-hits.qza \\\n",
    "    --m-sample-metadata-file ./metadata.tsv \\\n",
    "    --m-feature-metadata-file ./taxonomy.qza \\\n",
    "    --o-visualization tree-tax-table.qzv"
   ]
  },
  {
   "cell_type": "code",
   "execution_count": null,
   "metadata": {},
   "outputs": [],
   "source": [
    "q2.Visualization.load('./tree-tax-table.qzv')"
   ]
  }
 ],
 "metadata": {
  "kernelspec": {
   "display_name": "Python [conda env:qiime2-amplicon-2023.9]",
   "language": "python",
   "name": "conda-env-qiime2-amplicon-2023.9-py"
  },
  "language_info": {
   "codemirror_mode": {
    "name": "ipython",
    "version": 3
   },
   "file_extension": ".py",
   "mimetype": "text/x-python",
   "name": "python",
   "nbconvert_exporter": "python",
   "pygments_lexer": "ipython3",
   "version": "3.8.15"
  }
 },
 "nbformat": 4,
 "nbformat_minor": 4
}
