{
 "cells": [
  {
   "cell_type": "markdown",
   "id": "flexible-underwear",
   "metadata": {},
   "source": [
    "### Parkinson's Mouse Tutorial - Import & Demux\n",
    "\n",
    "Run this notebook in `qiime2-2022.11`.\n",
    "\n",
    "Well be working through the [pd-mouse tutorial](https://docs.qiime2.org/2022.11/tutorials/pd-mice/).\n",
    "\n",
    "*Note: did you run `jupyter serverextension enable --py qiime2 --sys-prefix` before getting here?*\n",
    "\n",
    "Also, see the [Jupyter Markdown documentation](https://jupyter.brynmawr.edu/services/public/dblank/Jupyter%20Notebook%20Users%20Manual.ipynb)."
   ]
  },
  {
   "cell_type": "code",
   "execution_count": 1,
   "id": "occupational-statement",
   "metadata": {
    "pycharm": {
     "is_executing": true
    }
   },
   "outputs": [],
   "source": [
    "from os import getcwd, listdir, chdir, mkdir\n",
    "import qiime2 as q2"
   ]
  },
  {
   "cell_type": "code",
   "execution_count": 2,
   "id": "83ac2e5d",
   "metadata": {},
   "outputs": [
    {
     "name": "stdout",
     "output_type": "stream",
     "text": [
      "\u001B[32mSystem versions\u001B[0m\n",
      "Python version: 3.8.18\n",
      "QIIME 2 release: 2024.5\n",
      "QIIME 2 version: 2024.5.0.dev0+1.g6306962\n",
      "q2cli version: 2024.5.0.dev0\n",
      "\u001B[32m\n",
      "Installed plugins\u001B[0m\n",
      "alignment: 2024.5.0.dev0+1.g3a9c58b\n",
      "composition: 2024.5.0.dev0\n",
      "cutadapt: 2024.5.0.dev0\n",
      "dada2: 2024.5.0.dev0\n",
      "deblur: 2024.5.0.dev0\n",
      "demux: 2024.5.0.dev0\n",
      "diversity: 2024.5.0.dev0+1.g99a0cca\n",
      "diversity-lib: 2024.5.0.dev0\n",
      "emperor: 2024.5.0.dev0\n",
      "feature-classifier: 2024.5.0.dev0\n",
      "feature-table: 2024.5.0.dev0+2.g65222bd\n",
      "fragment-insertion: 2024.5.0.dev0\n",
      "longitudinal: 2024.5.0.dev0\n",
      "metadata: 2024.5.0.dev0\n",
      "phylogeny: 2024.5.0.dev0\n",
      "quality-control: 2024.5.0.dev0\n",
      "quality-filter: 2024.5.0.dev0\n",
      "rescript: 2024.5.0.dev0+2.ga0df425\n",
      "sample-classifier: 2024.5.0.dev0\n",
      "taxa: 2024.5.0.dev0\n",
      "types: 2024.5.0.dev0+4.g823b5a4\n",
      "vsearch: 2024.5.0.dev0\n",
      "\u001B[32m\n",
      "Application config directory\u001B[0m\n",
      "/Users/fatimamubeenshaik/miniconda3/envs/qiime2-dev/var/q2cli\u001B[0m\n",
      "\u001B[32m\n",
      "Getting help\u001B[0m\n",
      "To get help with QIIME 2, visit https://qiime2.org\u001B[0m\n"
     ]
    }
   ],
   "source": [
    "! qiime info"
   ]
  },
  {
   "cell_type": "code",
   "execution_count": 3,
   "id": "honey-pregnancy",
   "metadata": {},
   "outputs": [
    {
     "data": {
      "text/plain": [
       "'/Users/fatimamubeenshaik/IdeaProjects/ParkinsonMouseTrail/src/main'"
      ]
     },
     "execution_count": 3,
     "metadata": {},
     "output_type": "execute_result"
    }
   ],
   "source": [
    "getcwd()"
   ]
  },
  {
   "cell_type": "code",
   "execution_count": 4,
   "id": "editorial-plumbing",
   "metadata": {
    "scrolled": true
   },
   "outputs": [
    {
     "data": {
      "text/plain": [
       "['02-Parkinson-Mouse-Tutorial-Taxonomy-Phylogeny (2).ipynb',\n",
       " '04-Parkinson-Mouse-Tutorial-Diff-Abund (2).ipynb',\n",
       " '.DS_Store',\n",
       " '01-Parkinson-Mouse-Tutorial-Import-Demux (2).ipynb',\n",
       " '.ipynb_checkpoints',\n",
       " '03-Parkinson-Mouse-Tutorial-Diversity.ipynb',\n",
       " 'processed']"
      ]
     },
     "execution_count": 4,
     "metadata": {},
     "output_type": "execute_result"
    }
   ],
   "source": [
    "listdir()"
   ]
  },
  {
   "cell_type": "code",
   "execution_count": 5,
   "id": "unsigned-foster",
   "metadata": {},
   "outputs": [
    {
     "ename": "FileExistsError",
     "evalue": "[Errno 17] File exists: './processed'",
     "output_type": "error",
     "traceback": [
      "\u001B[0;31m---------------------------------------------------------------------------\u001B[0m",
      "\u001B[0;31mFileExistsError\u001B[0m                           Traceback (most recent call last)",
      "Cell \u001B[0;32mIn[5], line 1\u001B[0m\n\u001B[0;32m----> 1\u001B[0m \u001B[43mmkdir\u001B[49m\u001B[43m(\u001B[49m\u001B[38;5;124;43m'\u001B[39;49m\u001B[38;5;124;43m./processed\u001B[39;49m\u001B[38;5;124;43m'\u001B[39;49m\u001B[43m)\u001B[49m\n",
      "\u001B[0;31mFileExistsError\u001B[0m: [Errno 17] File exists: './processed'"
     ]
    }
   ],
   "source": [
    "mkdir('./processed')"
   ]
  },
  {
   "cell_type": "code",
   "execution_count": 6,
   "id": "romance-multiple",
   "metadata": {},
   "outputs": [
    {
     "data": {
      "text/plain": [
       "'/Users/fatimamubeenshaik/IdeaProjects/ParkinsonMouseTrail/src/main/processed'"
      ]
     },
     "execution_count": 6,
     "metadata": {},
     "output_type": "execute_result"
    }
   ],
   "source": [
    "chdir('./processed')\n",
    "getcwd()"
   ]
  },
  {
   "cell_type": "markdown",
   "id": "composed-surfing",
   "metadata": {},
   "source": [
    "## Download and View Metadata\n",
    "\n",
    "We'll use `wget` to download the metadata file, and then visualize it in onw of two ways:\n",
    " - [QIIME 2 View Website](https://view.qiime2.org/)\n",
    " - [QIIME 2 CLI / Utilities](https://docs.qiime2.org/2022.11/tutorials/utilities/)\n",
    " - [QIIME 2 API](https://docs.qiime2.org/2022.11/interfaces/artifact-api/)\n",
    " \n",
    " *Note: If you are running this notebook on the HPC, you may need to copy and paste these commands into the \"Grace Shell Access\" under the \"Clusters\" menu of the Grace HPC Portal page. Make sure you are downloading the files into the appropriate directory. Aalternatively, simply download the files to you computer and use Jupyter Lab to upload the files.*"
   ]
  },
  {
   "cell_type": "code",
   "execution_count": 11,
   "id": "departmental-prince",
   "metadata": {
    "scrolled": true
   },
   "outputs": [
    {
     "name": "stdout",
     "output_type": "stream",
     "text": [
      "--2024-04-07 15:22:33--  https://data.qiime2.org/2022.11/tutorials/pd-mice/sample_metadata.tsv\n",
      "Resolving data.qiime2.org (data.qiime2.org)... 54.200.1.12\n",
      "Connecting to data.qiime2.org (data.qiime2.org)|54.200.1.12|:443... connected.\n",
      "HTTP request sent, awaiting response... 302 FOUND\n",
      "Location: https://docs.google.com/spreadsheets/d/e/2PACX-1vTH4PG7f-0EsIZdTm2l5d8dwS8TAVdMFSz7wArszulm-FKdaWmiSv7p3Si6ohMh9TsN8tp4F7V_4VL4/pub?gid=1509704122&single=true&output=tsv [following]\n",
      "--2024-04-07 15:22:33--  https://docs.google.com/spreadsheets/d/e/2PACX-1vTH4PG7f-0EsIZdTm2l5d8dwS8TAVdMFSz7wArszulm-FKdaWmiSv7p3Si6ohMh9TsN8tp4F7V_4VL4/pub?gid=1509704122&single=true&output=tsv\n",
      "Resolving docs.google.com (docs.google.com)... 142.251.46.206\n",
      "Connecting to docs.google.com (docs.google.com)|142.251.46.206|:443... connected.\n",
      "HTTP request sent, awaiting response... 307 Temporary Redirect\n",
      "Location: https://doc-00-60-sheets.googleusercontent.com/pub/54bogvaave6cua4cdnls17ksc4/r1mbrkfupeb0a62avr6bc8moa8/1712528550000/105250506097979753968/*/e@2PACX-1vTH4PG7f-0EsIZdTm2l5d8dwS8TAVdMFSz7wArszulm-FKdaWmiSv7p3Si6ohMh9TsN8tp4F7V_4VL4?gid=1509704122&single=true&output=tsv [following]\n",
      "Warning: wildcards not supported in HTTP.\n",
      "--2024-04-07 15:22:34--  https://doc-00-60-sheets.googleusercontent.com/pub/54bogvaave6cua4cdnls17ksc4/r1mbrkfupeb0a62avr6bc8moa8/1712528550000/105250506097979753968/*/e@2PACX-1vTH4PG7f-0EsIZdTm2l5d8dwS8TAVdMFSz7wArszulm-FKdaWmiSv7p3Si6ohMh9TsN8tp4F7V_4VL4?gid=1509704122&single=true&output=tsv\n",
      "Resolving doc-00-60-sheets.googleusercontent.com (doc-00-60-sheets.googleusercontent.com)... 142.250.191.33\n",
      "Connecting to doc-00-60-sheets.googleusercontent.com (doc-00-60-sheets.googleusercontent.com)|142.250.191.33|:443... connected.\n",
      "HTTP request sent, awaiting response... 200 OK\n",
      "Length: unspecified [text/tab-separated-values]\n",
      "Saving to: ‘metadata.tsv’\n",
      "\n",
      "metadata.tsv            [ <=>                ]   4.33K  --.-KB/s    in 0s      \n",
      "\n",
      "2024-04-07 15:22:35 (21.5 MB/s) - ‘metadata.tsv’ saved [4431]\n",
      "\n"
     ]
    }
   ],
   "source": [
    "# Download Metadata\n",
    "! wget \\\n",
    "    -O \"metadata.tsv\" \\\n",
    "    \"https://data.qiime2.org/2022.11/tutorials/pd-mice/sample_metadata.tsv\""
   ]
  },
  {
   "cell_type": "code",
   "execution_count": 7,
   "id": "vulnerable-western",
   "metadata": {},
   "outputs": [
    {
     "name": "stdout",
     "output_type": "stream",
     "text": [
      "\u001B[1m              COLUMN NAME  TYPE       \u001B[0m\n",
      "\u001B[1m=========================  ===========\u001B[0m\n",
      "                  barcode  categorical\n",
      "                 mouse_id  categorical\n",
      "                 genotype  categorical\n",
      "                  cage_id  categorical\n",
      "                    donor  categorical\n",
      "             donor_status  categorical\n",
      "     days_post_transplant  numeric    \n",
      "genotype_and_donor_status  categorical\n",
      "\u001B[1m=========================  ===========\u001B[0m\n",
      "\u001B[1m                     IDS:  \u001B[0m48\n",
      "\u001B[1m                 COLUMNS:  \u001B[0m8\n",
      "\u001B[0m"
     ]
    }
   ],
   "source": [
    "# Peek at the metadata\n",
    "! qiime tools inspect-metadata metadata.tsv"
   ]
  },
  {
   "cell_type": "markdown",
   "id": "quality-robertson",
   "metadata": {},
   "source": [
    "**Make metadata Visualization**"
   ]
  },
  {
   "cell_type": "code",
   "execution_count": 8,
   "id": "neural-mason",
   "metadata": {},
   "outputs": [
    {
     "name": "stdout",
     "output_type": "stream",
     "text": [
      "\u001B[32mSaved Visualization to: metadata.qzv\u001B[0m\r\n",
      "\u001B[0m"
     ]
    }
   ],
   "source": [
    "! qiime metadata tabulate \\\n",
    "  --m-input-file metadata.tsv \\\n",
    "  --o-visualization metadata.qzv"
   ]
  },
  {
   "cell_type": "code",
   "execution_count": 14,
   "id": "freelance-instrument",
   "metadata": {},
   "outputs": [
    {
     "name": "stdout",
     "output_type": "stream",
     "text": [
      "\u001B[32mUUID\u001B[0m:        012dcf7b-249e-4d80-9962-ea2e83e06ba5\r\n",
      "\u001B[32mType\u001B[0m:        Visualization\r\n"
     ]
    }
   ],
   "source": [
    "! qiime tools peek metadata.qzv"
   ]
  },
  {
   "cell_type": "code",
   "execution_count": 9,
   "id": "residential-group",
   "metadata": {
    "scrolled": true
   },
   "outputs": [
    {
     "data": {
      "text/html": [
       "<div><img onload=\"(function(div, url){\n",
       "if (typeof require !== 'undefined') {\n",
       "    var baseURL = require.toUrl('').split('/').slice(0, -2).join('/');\n",
       "} else {\n",
       "    var baseURL = JSON.parse(\n",
       "        document.getElementById('jupyter-config-data').innerHTML\n",
       "    ).baseUrl.slice(0, -1);\n",
       "}\n",
       "url = baseURL + url;\n",
       "fetch(url).then(function(res) {\n",
       "    if (res.status === 404) {\n",
       "        div.innerHTML = 'Install QIIME 2 Jupyter extension with:<br />' +\n",
       "                        '<code>jupyter serverextension enable --py qiime2' +\n",
       "                        ' --sys-prefix</code><br />then restart your server.' +\n",
       "                        '<br /><br />(Interactive output not available on ' +\n",
       "                        'static notebook viewer services like nbviewer.)';\n",
       "    } else if (res.status === 409) {\n",
       "        div.innerHTML = 'Visualization no longer in scope. Re-run this cell' +\n",
       "                        ' to see the visualization.';\n",
       "    } else if (res.ok) {\n",
       "        url = res.url;\n",
       "        div.innerHTML = '<iframe src=\\'' + url + '\\' style=\\'' +\n",
       "                        'width: 100%; height: 700px; border: 0;\\'>' +\n",
       "                        '</iframe><hr />Open in a: <a href=\\'' + url + '\\'' +\n",
       "                        ' target=\\'_blank\\'>new window</a>'\n",
       "    } else {\n",
       "        div.innerHTML = 'Something has gone wrong. Check notebook server for' +\n",
       "                        ' errors.';\n",
       "    }\n",
       "});\n",
       "})(this.parentElement, '/qiime2/redirect?location=/var/folders/2y/702nfmtx76sd29583bwt4gp00000gn/T/qiime2/fatimamubeenshaik/data/bcf4dfc7-af6a-4103-b513-64f0c74ca826')\" src=\"data:image/gif;base64,R0lGODlhAQABAIAAAP///wAAACH5BAEAAAAALAAAAAABAAEAAAICRAEAOw==\" /></div>"
      ],
      "text/plain": [
       "<visualization: Visualization uuid: bcf4dfc7-af6a-4103-b513-64f0c74ca826>"
      ]
     },
     "execution_count": 9,
     "metadata": {},
     "output_type": "execute_result"
    }
   ],
   "source": [
    "# Visualize via API\n",
    "q2.Visualization.load('metadata.qzv')"
   ]
  },
  {
   "cell_type": "markdown",
   "id": "infrared-scholar",
   "metadata": {},
   "source": [
    "## Import data into QIIME 2\n",
    "\n",
    "We will import:\n",
    " - [Manifest File](https://docs.qiime2.org/2022.11/tutorials/importing/#fastq-manifest-formats)\n",
    " - Demultiplexed Sequences (contrast to Multiplexed Sequences)\n",
    " \n",
    "See the [Importing Data Tutorial](https://docs.qiime2.org/2022.11/tutorials/importing/#importing-data) for more information."
   ]
  },
  {
   "cell_type": "code",
   "execution_count": 10,
   "id": "compressed-tenant",
   "metadata": {},
   "outputs": [
    {
     "name": "stdout",
     "output_type": "stream",
     "text": [
      "--2024-04-07 15:37:52--  https://data.qiime2.org/2022.11/tutorials/pd-mice/manifest\n",
      "Resolving data.qiime2.org (data.qiime2.org)... 54.200.1.12\n",
      "Connecting to data.qiime2.org (data.qiime2.org)|54.200.1.12|:443... connected.\n",
      "HTTP request sent, awaiting response... 302 FOUND\n",
      "Location: https://s3-us-west-2.amazonaws.com/qiime2-data/2022.11/tutorials/pd-mice/manifest [following]\n",
      "--2024-04-07 15:37:52--  https://s3-us-west-2.amazonaws.com/qiime2-data/2022.11/tutorials/pd-mice/manifest\n",
      "Resolving s3-us-west-2.amazonaws.com (s3-us-west-2.amazonaws.com)... 52.92.176.224, 52.92.131.8, 52.92.128.224, ...\n",
      "Connecting to s3-us-west-2.amazonaws.com (s3-us-west-2.amazonaws.com)|52.92.176.224|:443... connected.\n",
      "HTTP request sent, awaiting response... 200 OK\n",
      "Length: 4640 (4.5K) [binary/octet-stream]\n",
      "Saving to: ‘manifest.tsv’\n",
      "\n",
      "manifest.tsv        100%[===================>]   4.53K  --.-KB/s    in 0s      \n",
      "\n",
      "2024-04-07 15:37:53 (24.6 MB/s) - ‘manifest.tsv’ saved [4640/4640]\n",
      "\n"
     ]
    }
   ],
   "source": [
    "# get manifest file\n",
    "!wget \\\n",
    "  -O \"manifest.tsv\" \\\n",
    "  \"https://data.qiime2.org/2022.11/tutorials/pd-mice/manifest\""
   ]
  },
  {
   "cell_type": "code",
   "execution_count": 11,
   "id": "possible-prisoner",
   "metadata": {
    "scrolled": true
   },
   "outputs": [
    {
     "name": "stdout",
     "output_type": "stream",
     "text": [
      "--2024-04-07 15:37:58--  https://data.qiime2.org/2022.11/tutorials/pd-mice/demultiplexed_seqs.zip\n",
      "Resolving data.qiime2.org (data.qiime2.org)... 54.200.1.12\n",
      "Connecting to data.qiime2.org (data.qiime2.org)|54.200.1.12|:443... connected.\n",
      "HTTP request sent, awaiting response... 302 FOUND\n",
      "Location: https://s3-us-west-2.amazonaws.com/qiime2-data/2022.11/tutorials/pd-mice/demultiplexed_seqs.zip [following]\n",
      "--2024-04-07 15:37:58--  https://s3-us-west-2.amazonaws.com/qiime2-data/2022.11/tutorials/pd-mice/demultiplexed_seqs.zip\n",
      "Resolving s3-us-west-2.amazonaws.com (s3-us-west-2.amazonaws.com)... 52.92.227.40, 52.92.131.8, 52.92.128.224, ...\n",
      "Connecting to s3-us-west-2.amazonaws.com (s3-us-west-2.amazonaws.com)|52.92.227.40|:443... connected.\n",
      "HTTP request sent, awaiting response... 200 OK\n",
      "Length: 21508775 (21M) [application/zip]\n",
      "Saving to: ‘demultiplexed_seqs.zip’\n",
      "\n",
      "demultiplexed_seqs. 100%[===================>]  20.51M  30.5MB/s    in 0.7s    \n",
      "\n",
      "2024-04-07 15:37:59 (30.5 MB/s) - ‘demultiplexed_seqs.zip’ saved [21508775/21508775]\n",
      "\n"
     ]
    }
   ],
   "source": [
    "# get demultiplexed sequences\n",
    "!wget \\\n",
    "  -O \"demultiplexed_seqs.zip\" \\\n",
    "  \"https://data.qiime2.org/2022.11/tutorials/pd-mice/demultiplexed_seqs.zip\""
   ]
  },
  {
   "cell_type": "code",
   "execution_count": 12,
   "id": "altered-devices",
   "metadata": {
    "scrolled": true
   },
   "outputs": [
    {
     "name": "stdout",
     "output_type": "stream",
     "text": [
      "Archive:  demultiplexed_seqs.zip\n",
      "   creating: demultiplexed_seqs/\n",
      "  inflating: demultiplexed_seqs/10483.recip.539.ASO.PD4.D7_4_L001_R1_001.fastq.gz  \n",
      "  inflating: demultiplexed_seqs/10483.recip.539.ASO.PD4.D14_5_L001_R1_001.fastq.gz  \n",
      "  inflating: demultiplexed_seqs/10483.recip.413.WT.HC2.D7_12_L001_R1_001.fastq.gz  \n",
      "  inflating: demultiplexed_seqs/10483.recip.220.WT.OB1.D7_30_L001_R1_001.fastq.gz  \n",
      "  inflating: demultiplexed_seqs/10483.recip.458.ASO.HC3.D49_2_L001_R1_001.fastq.gz  \n",
      "  inflating: demultiplexed_seqs/10483.recip.538.WT.PD4.D21_4_L001_R1_001.fastq.gz  \n",
      "  inflating: demultiplexed_seqs/10483.recip.459.WT.HC3.D14_2_L001_R1_001.fastq.gz  \n",
      "  inflating: demultiplexed_seqs/10483.recip.461.ASO.HC3.D7_20_L001_R1_001.fastq.gz  \n",
      "  inflating: demultiplexed_seqs/10483.recip.465.ASO.PD3.D14_16_L001_R1_001.fastq.gz  \n",
      "  inflating: demultiplexed_seqs/10483.recip.461.ASO.HC3.D21_11_L001_R1_001.fastq.gz  \n",
      "  inflating: demultiplexed_seqs/10483.recip.540.ASO.HC4.D7_7_L001_R1_001.fastq.gz  \n",
      "  inflating: demultiplexed_seqs/10483.recip.465.ASO.PD3.D7_0_L001_R1_001.fastq.gz  \n",
      "  inflating: demultiplexed_seqs/10483.recip.400.ASO.HC2.D14_32_L001_R1_001.fastq.gz  \n",
      "  inflating: demultiplexed_seqs/10483.recip.389.WT.HC2.D21_1_L001_R1_001.fastq.gz  \n",
      "  inflating: demultiplexed_seqs/10483.recip.536.ASO.PD4.D49_1_L001_R1_001.fastq.gz  \n",
      "  inflating: demultiplexed_seqs/10483.recip.411.ASO.HC2.D49_6_L001_R1_001.fastq.gz  \n",
      "  inflating: demultiplexed_seqs/10483.recip.463.WT.PD3.D7_3_L001_R1_001.fastq.gz  \n",
      "  inflating: demultiplexed_seqs/10483.recip.412.ASO.HC2.D7_24_L001_R1_001.fastq.gz  \n",
      "  inflating: demultiplexed_seqs/10483.recip.463.WT.PD3.D14_25_L001_R1_001.fastq.gz  \n",
      "  inflating: demultiplexed_seqs/10483.recip.391.ASO.PD2.D7_15_L001_R1_001.fastq.gz  \n",
      "  inflating: demultiplexed_seqs/10483.recip.462.WT.PD3.D49_8_L001_R1_001.fastq.gz  \n",
      "  inflating: demultiplexed_seqs/10483.recip.456.ASO.HC3.D49_28_L001_R1_001.fastq.gz  \n",
      "  inflating: demultiplexed_seqs/10483.recip.460.WT.HC3.D7_14_L001_R1_001.fastq.gz  \n",
      "  inflating: demultiplexed_seqs/10483.recip.537.WT.PD4.D21_45_L001_R1_001.fastq.gz  \n",
      "  inflating: demultiplexed_seqs/10483.recip.467.WT.HC3.D49.a_0_L001_R1_001.fastq.gz  \n",
      "  inflating: demultiplexed_seqs/10483.recip.458.ASO.HC3.D21_10_L001_R1_001.fastq.gz  \n",
      "  inflating: demultiplexed_seqs/10483.recip.460.WT.HC3.D21_0_L001_R1_001.fastq.gz  \n",
      "  inflating: demultiplexed_seqs/10483.recip.412.ASO.HC2.D14_13_L001_R1_001.fastq.gz  \n",
      "  inflating: demultiplexed_seqs/10483.recip.391.ASO.PD2.D21_1_L001_R1_001.fastq.gz  \n",
      "  inflating: demultiplexed_seqs/10483.recip.460.WT.HC3.D14_11_L001_R1_001.fastq.gz  \n",
      "  inflating: demultiplexed_seqs/10483.recip.403.ASO.PD2.D21_31_L001_R1_001.fastq.gz  \n",
      "  inflating: demultiplexed_seqs/10483.recip.401.ASO.HC2.D7_22_L001_R1_001.fastq.gz  \n",
      "  inflating: demultiplexed_seqs/10483.recip.462.WT.PD3.D21_4_L001_R1_001.fastq.gz  \n",
      "  inflating: demultiplexed_seqs/10483.recip.462.WT.PD3.D14_18_L001_R1_001.fastq.gz  \n",
      "  inflating: demultiplexed_seqs/10483.recip.467.WT.HC3.D49.b_26_L001_R1_001.fastq.gz  \n",
      "  inflating: demultiplexed_seqs/10483.recip.290.ASO.OB2.D1_27_L001_R1_001.fastq.gz  \n",
      "  inflating: demultiplexed_seqs/10483.recip.466.ASO.PD3.D7_23_L001_R1_001.fastq.gz  \n",
      "  inflating: demultiplexed_seqs/10483.recip.462.WT.PD3.D7_3_L001_R1_001.fastq.gz  \n",
      "  inflating: demultiplexed_seqs/10483.recip.391.ASO.PD2.D14_5_L001_R1_001.fastq.gz  \n",
      "  inflating: demultiplexed_seqs/recip.411.ASO.HC2.D21_0_L001_R1_001.fastq.gz  \n",
      "  inflating: demultiplexed_seqs/10483.recip.460.WT.HC3.D49_19_L001_R1_001.fastq.gz  \n",
      "  inflating: demultiplexed_seqs/10483.recip.461.ASO.HC3.D49_29_L001_R1_001.fastq.gz  \n",
      "  inflating: demultiplexed_seqs/10483.recip.459.WT.HC3.D49_3_L001_R1_001.fastq.gz  \n",
      "  inflating: demultiplexed_seqs/10483.recip.411.ASO.HC2.D14_9_L001_R1_001.fastq.gz  \n",
      "  inflating: demultiplexed_seqs/10483.recip.464.WT.PD3.D14_17_L001_R1_001.fastq.gz  \n",
      "  inflating: demultiplexed_seqs/10483.recip.463.WT.PD3.D21_19_L001_R1_001.fastq.gz  \n",
      "  inflating: demultiplexed_seqs/10483.recip.459.WT.HC3.D21_21_L001_R1_001.fastq.gz  \n",
      "  inflating: demultiplexed_seqs/10483.recip.540.ASO.HC4.D14_2_L001_R1_001.fastq.gz  \n"
     ]
    }
   ],
   "source": [
    "# unzip sequences\n",
    "! unzip demultiplexed_seqs.zip"
   ]
  },
  {
   "cell_type": "code",
   "execution_count": null,
   "id": "subjective-banking",
   "metadata": {
    "scrolled": true
   },
   "outputs": [],
   "source": [
    "! head manifest.tsv"
   ]
  },
  {
   "cell_type": "markdown",
   "id": "particular-lobby",
   "metadata": {},
   "source": [
    "**Import and Summarize Data**"
   ]
  },
  {
   "cell_type": "code",
   "execution_count": null,
   "id": "settled-grade",
   "metadata": {},
   "outputs": [],
   "source": [
    "! qiime tools import \\\n",
    "  --type \"SampleData[SequencesWithQuality]\" \\\n",
    "  --input-format SingleEndFastqManifestPhred33V2 \\\n",
    "  --input-path ./manifest.tsv \\\n",
    "  --output-path ./demux_seqs.qza"
   ]
  },
  {
   "cell_type": "code",
   "execution_count": 17,
   "id": "exceptional-yemen",
   "metadata": {},
   "outputs": [
    {
     "name": "stdout",
     "output_type": "stream",
     "text": [
      "\u001B[32mSaved Visualization to: ./demux_seqs.qzv\u001B[0m\r\n",
      "\u001B[0m"
     ]
    }
   ],
   "source": [
    "! qiime demux summarize \\\n",
    "  --i-data ./demux_seqs.qza \\\n",
    "  --o-visualization ./demux_seqs.qzv"
   ]
  },
  {
   "cell_type": "raw",
   "id": "forward-service",
   "metadata": {},
   "source": [
    "q2.Visualization.load('demux_seqs.qzv')"
   ]
  },
  {
   "cell_type": "markdown",
   "id": "suitable-monthly",
   "metadata": {},
   "source": [
    "## Denoising Sequence data\n",
    "\n",
    " - DADA2 approach as outlined in the tutorial.\n",
    " - Alternate trimming w/ DADA2.\n",
    " - Using deblur w/ default trimming."
   ]
  },
  {
   "cell_type": "markdown",
   "id": "posted-memphis",
   "metadata": {},
   "source": [
    "### Default"
   ]
  },
  {
   "cell_type": "code",
   "execution_count": 18,
   "id": "sensitive-tomorrow",
   "metadata": {
    "pycharm": {
     "is_executing": true
    }
   },
   "outputs": [
    {
     "data": {
      "text/plain": [
       "'/Users/fatimamubeenshaik/IdeaProjects/ParkinsonMouseTrail/src/main/processed'"
      ]
     },
     "execution_count": 18,
     "metadata": {},
     "output_type": "execute_result"
    }
   ],
   "source": [
    "getcwd()"
   ]
  },
  {
   "cell_type": "code",
   "execution_count": 19,
   "id": "durable-fountain",
   "metadata": {},
   "outputs": [
    {
     "name": "stdout",
     "output_type": "stream",
     "text": [
      "Running external command line application(s). This may print messages to stdout and/or stderr.\n",
      "The command(s) being run are below. These commands cannot be manually re-run as they will depend on temporary files that no longer exist.\n",
      "\n",
      "Command: run_dada.R --input_directory /var/folders/2y/702nfmtx76sd29583bwt4gp00000gn/T/qiime2/fatimamubeenshaik/data/dcdfe722-ba25-4fca-b79b-8dcf1ccc8bcd/data --output_path /var/folders/2y/702nfmtx76sd29583bwt4gp00000gn/T/tmpbvp3ysgl/output.tsv.biom --output_track /var/folders/2y/702nfmtx76sd29583bwt4gp00000gn/T/tmpbvp3ysgl/track.tsv --filtered_directory /var/folders/2y/702nfmtx76sd29583bwt4gp00000gn/T/tmpbvp3ysgl --truncation_length 150 --trim_left 0 --max_expected_errors 2.0 --truncation_quality_score 2 --max_length Inf --pooling_method independent --chimera_method consensus --min_parental_fold 1.0 --allow_one_off False --num_threads 4 --learn_min_reads 1000000 --homopolymer_gap_penalty NULL --band_size 16\n",
      "\n",
      "Warning message:\n",
      "package ‘optparse’ was built under R version 4.2.3 \n",
      "R version 4.2.2 (2022-10-31) \n",
      "Loading required package: Rcpp\n",
      "\u001B[?25hDADA2: 1.26.0 / Rcpp: 1.0.12 / RcppParallel: 5.1.6 \n",
      "\u001B[?25h\u001B[?25h2) Filtering \u001B[?25h\u001B[?25h................................................\u001B[?25h\u001B[?25h\u001B[?25h\n",
      "\u001B[?25h\u001B[?25h3) Learning Error Rates\n",
      "\u001B[?25h35926200 total bases in 239508 reads from 48 samples will be used for learning the error rates.\n",
      "\u001B[?25h4) Denoise samples \n",
      "................................................\n",
      "\u001B[?25h5) Remove chimeras (method = consensus)\n",
      "\u001B[?25h\u001B[?25h6) Report read numbers through the pipeline\n",
      "\u001B[?25h\u001B[?25h7) Write output\n",
      "\u001B[?25h\u001B[?25h\u001B[?25h\u001B[?25h\u001B[?25h\u001B[?25h\u001B[?25h\u001B[32mSaved FeatureTable[Frequency] to: ./dada2_table.qza\u001B[0m\n",
      "\u001B[32mSaved FeatureData[Sequence] to: ./dada2_rep_set.qza\u001B[0m\n",
      "\u001B[32mSaved SampleData[DADA2Stats] to: ./dada2_stats.qza\u001B[0m\n",
      "\u001B[0m"
     ]
    }
   ],
   "source": [
    "! qiime dada2 denoise-single \\\n",
    "    --i-demultiplexed-seqs ./demux_seqs.qza \\\n",
    "    --p-trunc-len 150 \\\n",
    "    --p-n-threads 4 \\\n",
    "    --o-table ./dada2_table.qza \\\n",
    "    --o-representative-sequences ./dada2_rep_set.qza \\\n",
    "    --o-denoising-stats ./dada2_stats.qza \\\n",
    "    --verbose"
   ]
  },
  {
   "cell_type": "code",
   "execution_count": 20,
   "id": "working-delight",
   "metadata": {},
   "outputs": [
    {
     "name": "stdout",
     "output_type": "stream",
     "text": [
      "\u001B[32mSaved Visualization to: ./dada2_stats.qzv\u001B[0m\n",
      "\u001B[0m"
     ]
    }
   ],
   "source": [
    "# summarize denoising stats\n",
    "! qiime metadata tabulate \\\n",
    "    --m-input-file ./dada2_stats.qza  \\\n",
    "    --o-visualization ./dada2_stats.qzv"
   ]
  },
  {
   "cell_type": "raw",
   "id": "defined-constraint",
   "metadata": {},
   "source": [
    "q2.Visualization.load('dada2_stats.qzv')"
   ]
  },
  {
   "cell_type": "code",
   "execution_count": 21,
   "id": "checked-cement",
   "metadata": {},
   "outputs": [
    {
     "name": "stdout",
     "output_type": "stream",
     "text": [
      "\u001B[32mSaved Visualization to: ./dada2_table.qzv\u001B[0m\n",
      "\u001B[0m"
     ]
    }
   ],
   "source": [
    "# summarize ESV table\n",
    "! qiime feature-table summarize \\\n",
    "    --i-table ./dada2_table.qza \\\n",
    "    --m-sample-metadata-file ./metadata.tsv \\\n",
    "    --o-visualization ./dada2_table.qzv"
   ]
  },
  {
   "cell_type": "code",
   "execution_count": 22,
   "id": "personal-victory",
   "metadata": {},
   "outputs": [
    {
     "name": "stdout",
     "output_type": "stream",
     "text": [
      "\u001B[32mExported ./dada2_table.qza as BIOMV210DirFmt to directory ./dada2_table_export\u001B[0m\r\n",
      "\u001B[0m"
     ]
    }
   ],
   "source": [
    "! qiime tools export \\\n",
    "    --input-path ./dada2_table.qza \\\n",
    "    --output-path ./dada2_table_export"
   ]
  },
  {
   "cell_type": "code",
   "execution_count": 23,
   "id": "simple-platform",
   "metadata": {},
   "outputs": [
    {
     "name": "stdout",
     "output_type": "stream",
     "text": [
      "\u001B[32mSaved Visualization to: ./dada2_rep_set.qzv\u001B[0m\r\n",
      "\u001B[0m"
     ]
    }
   ],
   "source": [
    "! qiime feature-table tabulate-seqs \\\n",
    "    --i-data ./dada2_rep_set.qza \\\n",
    "    --o-visualization ./dada2_rep_set.qzv"
   ]
  },
  {
   "cell_type": "code",
   "execution_count": 24,
   "id": "thousand-corporation",
   "metadata": {},
   "outputs": [],
   "source": [
    "! biom convert --to-tsv \\\n",
    "    -i ./dada2_table_export/feature-table.biom \\\n",
    "    -o ./dada2_table_export/feature-table.txt"
   ]
  },
  {
   "cell_type": "code",
   "execution_count": 25,
   "id": "southeast-metropolitan",
   "metadata": {},
   "outputs": [
    {
     "name": "stdout",
     "output_type": "stream",
     "text": [
      "\u001B[32mSaved FeatureTable[Frequency] to: ./dada2_table_transposed.qza\u001B[0m\n",
      "\u001B[0m\u001B[32mSaved Visualization to: ./dada2_table_transposed_tab.qzv\u001B[0m\n",
      "\u001B[0m\u001B[32mExported ./dada2_table_transposed.qza as BIOMV210DirFmt to directory ./dada2_table_transposed_export\u001B[0m\n",
      "\u001B[0m"
     ]
    }
   ],
   "source": [
    "! qiime feature-table transpose \\\n",
    "    --i-table ./dada2_table.qza \\\n",
    "    --o-transposed-feature-table ./dada2_table_transposed.qza\n",
    "\n",
    "! qiime metadata tabulate \\\n",
    "    --m-input-file ./dada2_table_transposed.qza  \\\n",
    "    --o-visualization ./dada2_table_transposed_tab.qzv\n",
    "\n",
    "! qiime tools export \\\n",
    "    --input-path ./dada2_table_transposed.qza \\\n",
    "    --output-path ./dada2_table_transposed_export\n",
    "\n",
    "! biom convert --to-tsv \\\n",
    "    -i ./dada2_table_transposed_export/feature-table.biom \\\n",
    "    -o ./dada2_table_transposed_export/feature-table.txt"
   ]
  },
  {
   "cell_type": "code",
   "execution_count": null,
   "id": "three-velvet",
   "metadata": {},
   "outputs": [],
   "source": []
  },
  {
   "cell_type": "code",
   "execution_count": 26,
   "id": "spare-syndicate",
   "metadata": {},
   "outputs": [
    {
     "name": "stdout",
     "output_type": "stream",
     "text": [
      "\u001B[32mSaved Visualization to: ./dada2_table_tab.qzv\u001B[0m\r\n",
      "\u001B[0m"
     ]
    }
   ],
   "source": [
    "! qiime metadata tabulate \\\n",
    "    --m-input-file ./dada2_table.qza  \\\n",
    "    --o-visualization ./dada2_table_tab.qzv"
   ]
  },
  {
   "cell_type": "raw",
   "id": "humanitarian-nickname",
   "metadata": {},
   "source": [
    "q2.Visualization.load('dada2_table.qzv')"
   ]
  },
  {
   "cell_type": "raw",
   "id": "heavy-scene",
   "metadata": {},
   "source": [
    "q2.Visualization.load('dada2_rep_set.qzv')"
   ]
  },
  {
   "cell_type": "markdown",
   "id": "automated-research",
   "metadata": {},
   "source": [
    "### Alternate Trimming w/ DADA2"
   ]
  },
  {
   "cell_type": "code",
   "execution_count": 27,
   "id": "ethical-milton",
   "metadata": {},
   "outputs": [
    {
     "name": "stdout",
     "output_type": "stream",
     "text": [
      "Running external command line application(s). This may print messages to stdout and/or stderr.\n",
      "The command(s) being run are below. These commands cannot be manually re-run as they will depend on temporary files that no longer exist.\n",
      "\n",
      "Command: run_dada.R --input_directory /var/folders/2y/702nfmtx76sd29583bwt4gp00000gn/T/qiime2/fatimamubeenshaik/data/dcdfe722-ba25-4fca-b79b-8dcf1ccc8bcd/data --output_path /var/folders/2y/702nfmtx76sd29583bwt4gp00000gn/T/tmpdvyxz33c/output.tsv.biom --output_track /var/folders/2y/702nfmtx76sd29583bwt4gp00000gn/T/tmpdvyxz33c/track.tsv --filtered_directory /var/folders/2y/702nfmtx76sd29583bwt4gp00000gn/T/tmpdvyxz33c --truncation_length 130 --trim_left 30 --max_expected_errors 2.0 --truncation_quality_score 2 --max_length Inf --pooling_method independent --chimera_method consensus --min_parental_fold 1.0 --allow_one_off False --num_threads 1 --learn_min_reads 1000000 --homopolymer_gap_penalty NULL --band_size 16\n",
      "\n",
      "Warning message:\n",
      "package ‘optparse’ was built under R version 4.2.3 \n",
      "R version 4.2.2 (2022-10-31) \n",
      "Loading required package: Rcpp\n",
      "\u001B[?25hDADA2: 1.26.0 / Rcpp: 1.0.12 / RcppParallel: 5.1.6 \n",
      "\u001B[?25h\u001B[?25h2) Filtering \u001B[?25h\u001B[?25h................................................\u001B[?25h\u001B[?25h\u001B[?25h\n",
      "\u001B[?25h\u001B[?25h3) Learning Error Rates\n",
      "\u001B[?25h25075800 total bases in 250758 reads from 48 samples will be used for learning the error rates.\n",
      "\u001B[?25h4) Denoise samples \n",
      "................................................\n",
      "\u001B[?25h5) Remove chimeras (method = consensus)\n",
      "\u001B[?25h\u001B[?25h6) Report read numbers through the pipeline\n",
      "\u001B[?25h\u001B[?25h7) Write output\n",
      "\u001B[?25h\u001B[?25h\u001B[?25h\u001B[?25h\u001B[?25h\u001B[?25h\u001B[?25h\u001B[32mSaved FeatureTable[Frequency] to: ./dada2_table_alt.qza\u001B[0m\n",
      "\u001B[32mSaved FeatureData[Sequence] to: ./dada2_rep_set_alt.qza\u001B[0m\n",
      "\u001B[32mSaved SampleData[DADA2Stats] to: ./dada2_stats_alt.qza\u001B[0m\n",
      "\u001B[0m"
     ]
    }
   ],
   "source": [
    "! qiime dada2 denoise-single \\\n",
    "    --i-demultiplexed-seqs ./demux_seqs.qza \\\n",
    "    --p-trim-left 30 \\\n",
    "    --p-trunc-len 130 \\\n",
    "    --o-table ./dada2_table_alt.qza \\\n",
    "    --o-representative-sequences ./dada2_rep_set_alt.qza \\\n",
    "    --o-denoising-stats ./dada2_stats_alt.qza \\\n",
    "    --verbose"
   ]
  },
  {
   "cell_type": "code",
   "execution_count": 28,
   "id": "short-tuner",
   "metadata": {},
   "outputs": [
    {
     "name": "stdout",
     "output_type": "stream",
     "text": [
      "\u001B[32mSaved Visualization to: ./dada2_stats_alt.qzv\u001B[0m\r\n",
      "\u001B[0m"
     ]
    }
   ],
   "source": [
    "# summarize denoising stats\n",
    "! qiime metadata tabulate \\\n",
    "    --m-input-file ./dada2_stats_alt.qza  \\\n",
    "    --o-visualization ./dada2_stats_alt.qzv"
   ]
  },
  {
   "cell_type": "code",
   "execution_count": 29,
   "id": "antique-bubble",
   "metadata": {},
   "outputs": [
    {
     "data": {
      "text/html": [
       "<div><img onload=\"(function(div, url){\n",
       "if (typeof require !== 'undefined') {\n",
       "    var baseURL = require.toUrl('').split('/').slice(0, -2).join('/');\n",
       "} else {\n",
       "    var baseURL = JSON.parse(\n",
       "        document.getElementById('jupyter-config-data').innerHTML\n",
       "    ).baseUrl.slice(0, -1);\n",
       "}\n",
       "url = baseURL + url;\n",
       "fetch(url).then(function(res) {\n",
       "    if (res.status === 404) {\n",
       "        div.innerHTML = 'Install QIIME 2 Jupyter extension with:<br />' +\n",
       "                        '<code>jupyter serverextension enable --py qiime2' +\n",
       "                        ' --sys-prefix</code><br />then restart your server.' +\n",
       "                        '<br /><br />(Interactive output not available on ' +\n",
       "                        'static notebook viewer services like nbviewer.)';\n",
       "    } else if (res.status === 409) {\n",
       "        div.innerHTML = 'Visualization no longer in scope. Re-run this cell' +\n",
       "                        ' to see the visualization.';\n",
       "    } else if (res.ok) {\n",
       "        url = res.url;\n",
       "        div.innerHTML = '<iframe src=\\'' + url + '\\' style=\\'' +\n",
       "                        'width: 100%; height: 700px; border: 0;\\'>' +\n",
       "                        '</iframe><hr />Open in a: <a href=\\'' + url + '\\'' +\n",
       "                        ' target=\\'_blank\\'>new window</a>'\n",
       "    } else {\n",
       "        div.innerHTML = 'Something has gone wrong. Check notebook server for' +\n",
       "                        ' errors.';\n",
       "    }\n",
       "});\n",
       "})(this.parentElement, '/qiime2/redirect?location=/var/folders/2y/702nfmtx76sd29583bwt4gp00000gn/T/qiime2/fatimamubeenshaik/data/13681254-bf42-4622-b304-6ae224d0c420')\" src=\"data:image/gif;base64,R0lGODlhAQABAIAAAP///wAAACH5BAEAAAAALAAAAAABAAEAAAICRAEAOw==\" /></div>"
      ],
      "text/plain": [
       "<visualization: Visualization uuid: 13681254-bf42-4622-b304-6ae224d0c420>"
      ]
     },
     "execution_count": 29,
     "metadata": {},
     "output_type": "execute_result"
    }
   ],
   "source": [
    "q2.Visualization.load('dada2_stats_alt.qzv')"
   ]
  },
  {
   "cell_type": "code",
   "execution_count": 30,
   "id": "revised-exception",
   "metadata": {},
   "outputs": [
    {
     "name": "stdout",
     "output_type": "stream",
     "text": [
      "\u001B[32mSaved Visualization to: ./dada2_table_alt.qzv\u001B[0m\r\n",
      "\u001B[0m"
     ]
    }
   ],
   "source": [
    "# summarize ESV table\n",
    "! qiime feature-table summarize \\\n",
    "    --i-table ./dada2_table_alt.qza \\\n",
    "    --m-sample-metadata-file ./metadata.tsv \\\n",
    "    --o-visualization ./dada2_table_alt.qzv"
   ]
  },
  {
   "cell_type": "code",
   "execution_count": 31,
   "id": "rational-event",
   "metadata": {},
   "outputs": [
    {
     "data": {
      "text/html": [
       "<div><img onload=\"(function(div, url){\n",
       "if (typeof require !== 'undefined') {\n",
       "    var baseURL = require.toUrl('').split('/').slice(0, -2).join('/');\n",
       "} else {\n",
       "    var baseURL = JSON.parse(\n",
       "        document.getElementById('jupyter-config-data').innerHTML\n",
       "    ).baseUrl.slice(0, -1);\n",
       "}\n",
       "url = baseURL + url;\n",
       "fetch(url).then(function(res) {\n",
       "    if (res.status === 404) {\n",
       "        div.innerHTML = 'Install QIIME 2 Jupyter extension with:<br />' +\n",
       "                        '<code>jupyter serverextension enable --py qiime2' +\n",
       "                        ' --sys-prefix</code><br />then restart your server.' +\n",
       "                        '<br /><br />(Interactive output not available on ' +\n",
       "                        'static notebook viewer services like nbviewer.)';\n",
       "    } else if (res.status === 409) {\n",
       "        div.innerHTML = 'Visualization no longer in scope. Re-run this cell' +\n",
       "                        ' to see the visualization.';\n",
       "    } else if (res.ok) {\n",
       "        url = res.url;\n",
       "        div.innerHTML = '<iframe src=\\'' + url + '\\' style=\\'' +\n",
       "                        'width: 100%; height: 700px; border: 0;\\'>' +\n",
       "                        '</iframe><hr />Open in a: <a href=\\'' + url + '\\'' +\n",
       "                        ' target=\\'_blank\\'>new window</a>'\n",
       "    } else {\n",
       "        div.innerHTML = 'Something has gone wrong. Check notebook server for' +\n",
       "                        ' errors.';\n",
       "    }\n",
       "});\n",
       "})(this.parentElement, '/qiime2/redirect?location=/var/folders/2y/702nfmtx76sd29583bwt4gp00000gn/T/qiime2/fatimamubeenshaik/data/6896503f-0f35-4c6b-b45f-a46b4bbd56e7')\" src=\"data:image/gif;base64,R0lGODlhAQABAIAAAP///wAAACH5BAEAAAAALAAAAAABAAEAAAICRAEAOw==\" /></div>"
      ],
      "text/plain": [
       "<visualization: Visualization uuid: 6896503f-0f35-4c6b-b45f-a46b4bbd56e7>"
      ]
     },
     "execution_count": 31,
     "metadata": {},
     "output_type": "execute_result"
    }
   ],
   "source": [
    "q2.Visualization.load('dada2_table_alt.qzv')"
   ]
  },
  {
   "cell_type": "markdown",
   "id": "integral-aurora",
   "metadata": {},
   "source": [
    "### deblur w/ default"
   ]
  },
  {
   "cell_type": "code",
   "execution_count": 32,
   "id": "ignored-stage",
   "metadata": {},
   "outputs": [
    {
     "name": "stdout",
     "output_type": "stream",
     "text": [
      "\u001B[32mSaved SampleData[SequencesWithQuality] to: demux-seqs-deblur.qza\u001B[0m\r\n",
      "\u001B[32mSaved QualityFilterStats to: demux-deblur-stats.qza\u001B[0m\r\n",
      "\u001B[0m"
     ]
    }
   ],
   "source": [
    "! qiime quality-filter q-score \\\n",
    "    --i-demux ./demux_seqs.qza \\\n",
    "    --o-filtered-sequences demux-seqs-deblur.qza \\\n",
    "    --o-filter-stats demux-deblur-stats.qza"
   ]
  },
  {
   "cell_type": "code",
   "execution_count": 33,
   "id": "surrounded-fifty",
   "metadata": {},
   "outputs": [
    {
     "name": "stdout",
     "output_type": "stream",
     "text": [
      "\u001B[32mSaved FeatureTable[Frequency] to: table-deblur.qza\u001B[0m\r\n",
      "\u001B[32mSaved FeatureData[Sequence] to: rep-seqs-deblur.qza\u001B[0m\r\n",
      "\u001B[32mSaved DeblurStats to: deblur-stats.qza\u001B[0m\r\n",
      "\u001B[0m"
     ]
    }
   ],
   "source": [
    "# Defaults to Greengenes. \n",
    "#    If you want to use SILVA or another ref db, then use:\n",
    "#    `qiime deblur denoise-other`\n",
    "#    silva files are located here: https://docs.qiime2.org/2022.11/data-resources/\n",
    "! qiime deblur denoise-16S \\\n",
    "    --i-demultiplexed-seqs demux-seqs-deblur.qza \\\n",
    "    --p-trim-length 131 \\\n",
    "    --o-representative-sequences rep-seqs-deblur.qza \\\n",
    "    --o-table table-deblur.qza \\\n",
    "    --p-sample-stats \\\n",
    "    --o-stats deblur-stats.qza"
   ]
  },
  {
   "cell_type": "code",
   "execution_count": 34,
   "id": "abroad-publisher",
   "metadata": {},
   "outputs": [
    {
     "name": "stdout",
     "output_type": "stream",
     "text": [
      "\u001B[32mSaved Visualization to: demux-deblur-stats.qzv\u001B[0m\n",
      "\u001B[0m\u001B[32mSaved Visualization to: deblur-stats.qzv\u001B[0m\n",
      "\u001B[0m"
     ]
    }
   ],
   "source": [
    "! qiime metadata tabulate \\\n",
    "    --m-input-file demux-deblur-stats.qza \\\n",
    "    --o-visualization demux-deblur-stats.qzv\n",
    "\n",
    "! qiime deblur visualize-stats \\\n",
    "    --i-deblur-stats deblur-stats.qza \\\n",
    "    --o-visualization deblur-stats.qzv"
   ]
  },
  {
   "cell_type": "code",
   "execution_count": 35,
   "id": "aware-pledge",
   "metadata": {},
   "outputs": [
    {
     "data": {
      "text/html": [
       "<div><img onload=\"(function(div, url){\n",
       "if (typeof require !== 'undefined') {\n",
       "    var baseURL = require.toUrl('').split('/').slice(0, -2).join('/');\n",
       "} else {\n",
       "    var baseURL = JSON.parse(\n",
       "        document.getElementById('jupyter-config-data').innerHTML\n",
       "    ).baseUrl.slice(0, -1);\n",
       "}\n",
       "url = baseURL + url;\n",
       "fetch(url).then(function(res) {\n",
       "    if (res.status === 404) {\n",
       "        div.innerHTML = 'Install QIIME 2 Jupyter extension with:<br />' +\n",
       "                        '<code>jupyter serverextension enable --py qiime2' +\n",
       "                        ' --sys-prefix</code><br />then restart your server.' +\n",
       "                        '<br /><br />(Interactive output not available on ' +\n",
       "                        'static notebook viewer services like nbviewer.)';\n",
       "    } else if (res.status === 409) {\n",
       "        div.innerHTML = 'Visualization no longer in scope. Re-run this cell' +\n",
       "                        ' to see the visualization.';\n",
       "    } else if (res.ok) {\n",
       "        url = res.url;\n",
       "        div.innerHTML = '<iframe src=\\'' + url + '\\' style=\\'' +\n",
       "                        'width: 100%; height: 700px; border: 0;\\'>' +\n",
       "                        '</iframe><hr />Open in a: <a href=\\'' + url + '\\'' +\n",
       "                        ' target=\\'_blank\\'>new window</a>'\n",
       "    } else {\n",
       "        div.innerHTML = 'Something has gone wrong. Check notebook server for' +\n",
       "                        ' errors.';\n",
       "    }\n",
       "});\n",
       "})(this.parentElement, '/qiime2/redirect?location=/var/folders/2y/702nfmtx76sd29583bwt4gp00000gn/T/qiime2/fatimamubeenshaik/data/5aa24666-c9c6-4656-8bee-c65132a20226')\" src=\"data:image/gif;base64,R0lGODlhAQABAIAAAP///wAAACH5BAEAAAAALAAAAAABAAEAAAICRAEAOw==\" /></div>"
      ],
      "text/plain": [
       "<visualization: Visualization uuid: 5aa24666-c9c6-4656-8bee-c65132a20226>"
      ]
     },
     "execution_count": 35,
     "metadata": {},
     "output_type": "execute_result"
    }
   ],
   "source": [
    "q2.Visualization.load('demux-deblur-stats.qzv')"
   ]
  },
  {
   "cell_type": "code",
   "execution_count": 36,
   "id": "surprised-myrtle",
   "metadata": {},
   "outputs": [
    {
     "data": {
      "text/html": [
       "<div><img onload=\"(function(div, url){\n",
       "if (typeof require !== 'undefined') {\n",
       "    var baseURL = require.toUrl('').split('/').slice(0, -2).join('/');\n",
       "} else {\n",
       "    var baseURL = JSON.parse(\n",
       "        document.getElementById('jupyter-config-data').innerHTML\n",
       "    ).baseUrl.slice(0, -1);\n",
       "}\n",
       "url = baseURL + url;\n",
       "fetch(url).then(function(res) {\n",
       "    if (res.status === 404) {\n",
       "        div.innerHTML = 'Install QIIME 2 Jupyter extension with:<br />' +\n",
       "                        '<code>jupyter serverextension enable --py qiime2' +\n",
       "                        ' --sys-prefix</code><br />then restart your server.' +\n",
       "                        '<br /><br />(Interactive output not available on ' +\n",
       "                        'static notebook viewer services like nbviewer.)';\n",
       "    } else if (res.status === 409) {\n",
       "        div.innerHTML = 'Visualization no longer in scope. Re-run this cell' +\n",
       "                        ' to see the visualization.';\n",
       "    } else if (res.ok) {\n",
       "        url = res.url;\n",
       "        div.innerHTML = '<iframe src=\\'' + url + '\\' style=\\'' +\n",
       "                        'width: 100%; height: 700px; border: 0;\\'>' +\n",
       "                        '</iframe><hr />Open in a: <a href=\\'' + url + '\\'' +\n",
       "                        ' target=\\'_blank\\'>new window</a>'\n",
       "    } else {\n",
       "        div.innerHTML = 'Something has gone wrong. Check notebook server for' +\n",
       "                        ' errors.';\n",
       "    }\n",
       "});\n",
       "})(this.parentElement, '/qiime2/redirect?location=/var/folders/2y/702nfmtx76sd29583bwt4gp00000gn/T/qiime2/fatimamubeenshaik/data/bade2746-ad04-4179-ba15-28cac2ce8efa')\" src=\"data:image/gif;base64,R0lGODlhAQABAIAAAP///wAAACH5BAEAAAAALAAAAAABAAEAAAICRAEAOw==\" /></div>"
      ],
      "text/plain": [
       "<visualization: Visualization uuid: bade2746-ad04-4179-ba15-28cac2ce8efa>"
      ]
     },
     "execution_count": 36,
     "metadata": {},
     "output_type": "execute_result"
    }
   ],
   "source": [
    "q2.Visualization.load('deblur-stats.qzv')"
   ]
  },
  {
   "cell_type": "code",
   "execution_count": 37,
   "id": "southern-kruger",
   "metadata": {},
   "outputs": [
    {
     "name": "stdout",
     "output_type": "stream",
     "text": [
      "\u001B[32mSaved Visualization to: table-deblur.qzv\u001B[0m\n",
      "\u001B[0m\u001B[32mSaved Visualization to: rep-seqs-deblur.qzv\u001B[0m\n",
      "\u001B[0m"
     ]
    }
   ],
   "source": [
    "! qiime feature-table summarize \\\n",
    "    --i-table table-deblur.qza \\\n",
    "    --o-visualization table-deblur.qzv \\\n",
    "    --m-sample-metadata-file metadata.tsv\n",
    "\n",
    "! qiime feature-table tabulate-seqs \\\n",
    "    --i-data rep-seqs-deblur.qza \\\n",
    "    --o-visualization rep-seqs-deblur.qzv"
   ]
  },
  {
   "cell_type": "code",
   "execution_count": 38,
   "id": "lasting-lightning",
   "metadata": {
    "scrolled": true
   },
   "outputs": [
    {
     "data": {
      "text/html": [
       "<div><img onload=\"(function(div, url){\n",
       "if (typeof require !== 'undefined') {\n",
       "    var baseURL = require.toUrl('').split('/').slice(0, -2).join('/');\n",
       "} else {\n",
       "    var baseURL = JSON.parse(\n",
       "        document.getElementById('jupyter-config-data').innerHTML\n",
       "    ).baseUrl.slice(0, -1);\n",
       "}\n",
       "url = baseURL + url;\n",
       "fetch(url).then(function(res) {\n",
       "    if (res.status === 404) {\n",
       "        div.innerHTML = 'Install QIIME 2 Jupyter extension with:<br />' +\n",
       "                        '<code>jupyter serverextension enable --py qiime2' +\n",
       "                        ' --sys-prefix</code><br />then restart your server.' +\n",
       "                        '<br /><br />(Interactive output not available on ' +\n",
       "                        'static notebook viewer services like nbviewer.)';\n",
       "    } else if (res.status === 409) {\n",
       "        div.innerHTML = 'Visualization no longer in scope. Re-run this cell' +\n",
       "                        ' to see the visualization.';\n",
       "    } else if (res.ok) {\n",
       "        url = res.url;\n",
       "        div.innerHTML = '<iframe src=\\'' + url + '\\' style=\\'' +\n",
       "                        'width: 100%; height: 700px; border: 0;\\'>' +\n",
       "                        '</iframe><hr />Open in a: <a href=\\'' + url + '\\'' +\n",
       "                        ' target=\\'_blank\\'>new window</a>'\n",
       "    } else {\n",
       "        div.innerHTML = 'Something has gone wrong. Check notebook server for' +\n",
       "                        ' errors.';\n",
       "    }\n",
       "});\n",
       "})(this.parentElement, '/qiime2/redirect?location=/var/folders/2y/702nfmtx76sd29583bwt4gp00000gn/T/qiime2/fatimamubeenshaik/data/59b0fd3a-c336-4e06-9534-03c075f10d7d')\" src=\"data:image/gif;base64,R0lGODlhAQABAIAAAP///wAAACH5BAEAAAAALAAAAAABAAEAAAICRAEAOw==\" /></div>"
      ],
      "text/plain": [
       "<visualization: Visualization uuid: 59b0fd3a-c336-4e06-9534-03c075f10d7d>"
      ]
     },
     "execution_count": 38,
     "metadata": {},
     "output_type": "execute_result"
    }
   ],
   "source": [
    "q2.Visualization.load('table-deblur.qzv')"
   ]
  },
  {
   "cell_type": "code",
   "execution_count": 39,
   "id": "contrary-railway",
   "metadata": {
    "scrolled": true
   },
   "outputs": [
    {
     "data": {
      "text/html": [
       "<div><img onload=\"(function(div, url){\n",
       "if (typeof require !== 'undefined') {\n",
       "    var baseURL = require.toUrl('').split('/').slice(0, -2).join('/');\n",
       "} else {\n",
       "    var baseURL = JSON.parse(\n",
       "        document.getElementById('jupyter-config-data').innerHTML\n",
       "    ).baseUrl.slice(0, -1);\n",
       "}\n",
       "url = baseURL + url;\n",
       "fetch(url).then(function(res) {\n",
       "    if (res.status === 404) {\n",
       "        div.innerHTML = 'Install QIIME 2 Jupyter extension with:<br />' +\n",
       "                        '<code>jupyter serverextension enable --py qiime2' +\n",
       "                        ' --sys-prefix</code><br />then restart your server.' +\n",
       "                        '<br /><br />(Interactive output not available on ' +\n",
       "                        'static notebook viewer services like nbviewer.)';\n",
       "    } else if (res.status === 409) {\n",
       "        div.innerHTML = 'Visualization no longer in scope. Re-run this cell' +\n",
       "                        ' to see the visualization.';\n",
       "    } else if (res.ok) {\n",
       "        url = res.url;\n",
       "        div.innerHTML = '<iframe src=\\'' + url + '\\' style=\\'' +\n",
       "                        'width: 100%; height: 700px; border: 0;\\'>' +\n",
       "                        '</iframe><hr />Open in a: <a href=\\'' + url + '\\'' +\n",
       "                        ' target=\\'_blank\\'>new window</a>'\n",
       "    } else {\n",
       "        div.innerHTML = 'Something has gone wrong. Check notebook server for' +\n",
       "                        ' errors.';\n",
       "    }\n",
       "});\n",
       "})(this.parentElement, '/qiime2/redirect?location=/var/folders/2y/702nfmtx76sd29583bwt4gp00000gn/T/qiime2/fatimamubeenshaik/data/26851e36-1e34-4599-9989-935f04747aec')\" src=\"data:image/gif;base64,R0lGODlhAQABAIAAAP///wAAACH5BAEAAAAALAAAAAABAAEAAAICRAEAOw==\" /></div>"
      ],
      "text/plain": [
       "<visualization: Visualization uuid: 26851e36-1e34-4599-9989-935f04747aec>"
      ]
     },
     "execution_count": 39,
     "metadata": {},
     "output_type": "execute_result"
    }
   ],
   "source": [
    "q2.Visualization.load('rep-seqs-deblur.qzv')"
   ]
  },
  {
   "cell_type": "code",
   "execution_count": null,
   "id": "greenhouse-glossary",
   "metadata": {},
   "outputs": [],
   "source": []
  },
  {
   "cell_type": "code",
   "execution_count": null,
   "id": "signal-offense",
   "metadata": {},
   "outputs": [],
   "source": []
  }
 ],
 "metadata": {
  "kernelspec": {
   "display_name": "Python 3 (ipykernel)",
   "language": "python",
   "name": "python3"
  },
  "language_info": {
   "codemirror_mode": {
    "name": "ipython",
    "version": 3
   },
   "file_extension": ".py",
   "mimetype": "text/x-python",
   "name": "python",
   "nbconvert_exporter": "python",
   "pygments_lexer": "ipython3",
   "version": "3.8.18"
  }
 },
 "nbformat": 4,
 "nbformat_minor": 5
}
