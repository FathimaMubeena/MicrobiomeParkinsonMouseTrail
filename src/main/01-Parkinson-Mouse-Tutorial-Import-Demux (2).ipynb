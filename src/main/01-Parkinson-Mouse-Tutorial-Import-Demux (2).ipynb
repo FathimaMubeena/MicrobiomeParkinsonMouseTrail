{
 "cells": [
  {
   "cell_type": "markdown",
   "id": "flexible-underwear",
   "metadata": {},
   "source": [
    "### Parkinson's Mouse Tutorial - Import & Demux\n",
    "\n",
    "Run this notebook in `qiime2-2022.11`.\n",
    "\n",
    "Well be working through the [pd-mouse tutorial](https://docs.qiime2.org/2022.11/tutorials/pd-mice/).\n",
    "\n",
    "*Note: did you run `jupyter serverextension enable --py qiime2 --sys-prefix` before getting here?*\n",
    "\n",
    "Also, see the [Jupyter Markdown documentation](https://jupyter.brynmawr.edu/services/public/dblank/Jupyter%20Notebook%20Users%20Manual.ipynb)."
   ]
  },
  {
   "cell_type": "code",
   "execution_count": 1,
   "id": "occupational-statement",
   "metadata": {},
   "outputs": [],
   "source": [
    "from os import getcwd, listdir, chdir, mkdir\n",
    "import qiime2 as q2"
   ]
  },
  {
   "cell_type": "code",
   "execution_count": 2,
   "id": "honey-pregnancy",
   "metadata": {},
   "outputs": [
    {
     "data": {
      "text/plain": [
       "'/home/fmshaik/BMIG-62033'"
      ]
     },
     "execution_count": 2,
     "metadata": {},
     "output_type": "execute_result"
    }
   ],
   "source": [
    "getcwd()"
   ]
  },
  {
   "cell_type": "code",
   "execution_count": 3,
   "id": "editorial-plumbing",
   "metadata": {
    "scrolled": true
   },
   "outputs": [
    {
     "data": {
      "text/plain": [
       "['01-Parkinson-Mouse-Tutorial-Import-Demux.ipynb',\n",
       " 'processed',\n",
       " '04-Parkinson-Mouse-Tutorial-Diff-Abund.ipynb',\n",
       " '.ipynb_checkpoints',\n",
       " '02-Parkinson-Mouse-Tutorial-Taxonomy-Phylogeny.ipynb',\n",
       " '03-Parkinson-Mouse-Tutorial-Diversity.ipynb']"
      ]
     },
     "execution_count": 3,
     "metadata": {},
     "output_type": "execute_result"
    }
   ],
   "source": [
    "listdir()"
   ]
  },
  {
   "cell_type": "code",
   "execution_count": 4,
   "id": "unsigned-foster",
   "metadata": {},
   "outputs": [
    {
     "ename": "FileExistsError",
     "evalue": "[Errno 17] File exists: './processed'",
     "output_type": "error",
     "traceback": [
      "\u001b[0;31m---------------------------------------------------------------------------\u001b[0m",
      "\u001b[0;31mFileExistsError\u001b[0m                           Traceback (most recent call last)",
      "Cell \u001b[0;32mIn[4], line 1\u001b[0m\n\u001b[0;32m----> 1\u001b[0m \u001b[43mmkdir\u001b[49m\u001b[43m(\u001b[49m\u001b[38;5;124;43m'\u001b[39;49m\u001b[38;5;124;43m./processed\u001b[39;49m\u001b[38;5;124;43m'\u001b[39;49m\u001b[43m)\u001b[49m\n",
      "\u001b[0;31mFileExistsError\u001b[0m: [Errno 17] File exists: './processed'"
     ]
    }
   ],
   "source": [
    "mkdir('./processed')"
   ]
  },
  {
   "cell_type": "code",
   "execution_count": null,
   "id": "romance-multiple",
   "metadata": {},
   "outputs": [],
   "source": [
    "chdir('./processed')\n",
    "getcwd()"
   ]
  },
  {
   "cell_type": "markdown",
   "id": "composed-surfing",
   "metadata": {},
   "source": [
    "## Download and View Metadata\n",
    "\n",
    "We'll use `wget` to download the metadata file, and then visualize it in onw of two ways:\n",
    " - [QIIME 2 View Website](https://view.qiime2.org/)\n",
    " - [QIIME 2 CLI / Utilities](https://docs.qiime2.org/2022.11/tutorials/utilities/)\n",
    " - [QIIME 2 API](https://docs.qiime2.org/2022.11/interfaces/artifact-api/)\n",
    " \n",
    " *Note: If you are running this notebook on the HPC, you may need to copy and paste these commands into the \"Grace Shell Access\" under the \"Clusters\" menu of the Grace HPC Portal page. Make sure you are downloading the files into the appropriate directory. Aalternatively, simply download the files to you computer and use Jupyter Lab to upload the files.*"
   ]
  },
  {
   "cell_type": "code",
   "execution_count": null,
   "id": "departmental-prince",
   "metadata": {
    "scrolled": true
   },
   "outputs": [],
   "source": [
    "# Download Metadata\n",
    "! wget \\\n",
    "    -O \"metadata.tsv\" \\\n",
    "    \"https://data.qiime2.org/2022.11/tutorials/pd-mice/sample_metadata.tsv\""
   ]
  },
  {
   "cell_type": "code",
   "execution_count": null,
   "id": "vulnerable-western",
   "metadata": {},
   "outputs": [],
   "source": [
    "# Peek at the metadata\n",
    "! qiime tools inspect-metadata metadata.tsv"
   ]
  },
  {
   "cell_type": "markdown",
   "id": "quality-robertson",
   "metadata": {},
   "source": [
    "**Make metadata Visualization**"
   ]
  },
  {
   "cell_type": "code",
   "execution_count": null,
   "id": "neural-mason",
   "metadata": {},
   "outputs": [],
   "source": [
    "! qiime metadata tabulate \\\n",
    "  --m-input-file metadata.tsv \\\n",
    "  --o-visualization metadata.qzv"
   ]
  },
  {
   "cell_type": "code",
   "execution_count": null,
   "id": "freelance-instrument",
   "metadata": {},
   "outputs": [],
   "source": [
    "! qiime tools peek metadata.qzv"
   ]
  },
  {
   "cell_type": "code",
   "execution_count": null,
   "id": "residential-group",
   "metadata": {
    "scrolled": true
   },
   "outputs": [],
   "source": [
    "# Visualize via API\n",
    "q2.Visualization.load('metadata.qzv')"
   ]
  },
  {
   "cell_type": "markdown",
   "id": "infrared-scholar",
   "metadata": {},
   "source": [
    "## Import data into QIIME 2\n",
    "\n",
    "We will import:\n",
    " - [Manifest File](https://docs.qiime2.org/2022.11/tutorials/importing/#fastq-manifest-formats)\n",
    " - Demultiplexed Sequences (contrast to Multiplexed Sequences)\n",
    " \n",
    "See the [Importing Data Tutorial](https://docs.qiime2.org/2022.11/tutorials/importing/#importing-data) for more information."
   ]
  },
  {
   "cell_type": "code",
   "execution_count": null,
   "id": "compressed-tenant",
   "metadata": {},
   "outputs": [],
   "source": [
    "# get manifest file\n",
    "!wget \\\n",
    "  -O \"manifest.tsv\" \\\n",
    "  \"https://data.qiime2.org/2022.11/tutorials/pd-mice/manifest\""
   ]
  },
  {
   "cell_type": "code",
   "execution_count": null,
   "id": "possible-prisoner",
   "metadata": {
    "scrolled": true
   },
   "outputs": [],
   "source": [
    "# get demultiplexed sequences\n",
    "!wget \\\n",
    "  -O \"demultiplexed_seqs.zip\" \\\n",
    "  \"https://data.qiime2.org/2022.11/tutorials/pd-mice/demultiplexed_seqs.zip\""
   ]
  },
  {
   "cell_type": "code",
   "execution_count": null,
   "id": "altered-devices",
   "metadata": {
    "scrolled": true
   },
   "outputs": [],
   "source": [
    "# unzip sequences\n",
    "! unzip demultiplexed_seqs.zip"
   ]
  },
  {
   "cell_type": "code",
   "execution_count": null,
   "id": "subjective-banking",
   "metadata": {
    "scrolled": true
   },
   "outputs": [],
   "source": [
    "! head manifest.tsv"
   ]
  },
  {
   "cell_type": "markdown",
   "id": "particular-lobby",
   "metadata": {},
   "source": [
    "**Import and Summarize Data**"
   ]
  },
  {
   "cell_type": "code",
   "execution_count": null,
   "id": "settled-grade",
   "metadata": {},
   "outputs": [],
   "source": [
    "! qiime tools import \\\n",
    "  --type \"SampleData[SequencesWithQuality]\" \\\n",
    "  --input-format SingleEndFastqManifestPhred33V2 \\\n",
    "  --input-path ./manifest.tsv \\\n",
    "  --output-path ./demux_seqs.qza"
   ]
  },
  {
   "cell_type": "code",
   "execution_count": null,
   "id": "exceptional-yemen",
   "metadata": {},
   "outputs": [],
   "source": [
    "! qiime demux summarize \\\n",
    "  --i-data ./demux_seqs.qza \\\n",
    "  --o-visualization ./demux_seqs.qzv"
   ]
  },
  {
   "cell_type": "raw",
   "id": "forward-service",
   "metadata": {},
   "source": [
    "q2.Visualization.load('demux_seqs.qzv')"
   ]
  },
  {
   "cell_type": "markdown",
   "id": "suitable-monthly",
   "metadata": {},
   "source": [
    "## Denoising Sequence data\n",
    "\n",
    " - DADA2 approach as outlined in the tutorial.\n",
    " - Alternate trimming w/ DADA2.\n",
    " - Using deblur w/ default trimming."
   ]
  },
  {
   "cell_type": "markdown",
   "id": "posted-memphis",
   "metadata": {},
   "source": [
    "### Default"
   ]
  },
  {
   "cell_type": "code",
   "execution_count": null,
   "id": "sensitive-tomorrow",
   "metadata": {},
   "outputs": [],
   "source": [
    "getcwd()"
   ]
  },
  {
   "cell_type": "code",
   "execution_count": null,
   "id": "durable-fountain",
   "metadata": {},
   "outputs": [],
   "source": [
    "! qiime dada2 denoise-single \\\n",
    "    --i-demultiplexed-seqs ./demux_seqs.qza \\\n",
    "    --p-trunc-len 150 \\\n",
    "    --p-n-threads 4 \\\n",
    "    --o-table ./dada2_table.qza \\\n",
    "    --o-representative-sequences ./dada2_rep_set.qza \\\n",
    "    --o-denoising-stats ./dada2_stats.qza \\\n",
    "    --verbose"
   ]
  },
  {
   "cell_type": "code",
   "execution_count": null,
   "id": "working-delight",
   "metadata": {},
   "outputs": [],
   "source": [
    "# summarize denoising stats\n",
    "! qiime metadata tabulate \\\n",
    "    --m-input-file ./dada2_stats.qza  \\\n",
    "    --o-visualization ./dada2_stats.qzv"
   ]
  },
  {
   "cell_type": "raw",
   "id": "defined-constraint",
   "metadata": {},
   "source": [
    "q2.Visualization.load('dada2_stats.qzv')"
   ]
  },
  {
   "cell_type": "code",
   "execution_count": null,
   "id": "checked-cement",
   "metadata": {},
   "outputs": [],
   "source": [
    "# summarize ESV table\n",
    "! qiime feature-table summarize \\\n",
    "    --i-table ./dada2_table.qza \\\n",
    "    --m-sample-metadata-file ./metadata.tsv \\\n",
    "    --o-visualization ./dada2_table.qzv"
   ]
  },
  {
   "cell_type": "code",
   "execution_count": null,
   "id": "personal-victory",
   "metadata": {},
   "outputs": [],
   "source": [
    "! qiime tools export \\\n",
    "    --input-path ./dada2_table.qza \\\n",
    "    --output-path ./dada2_table_export"
   ]
  },
  {
   "cell_type": "code",
   "execution_count": null,
   "id": "simple-platform",
   "metadata": {},
   "outputs": [],
   "source": [
    "! qiime feature-table tabulate-seqs \\\n",
    "    --i-data ./dada2_rep_set.qza \\\n",
    "    --o-visualization ./dada2_rep_set.qzv"
   ]
  },
  {
   "cell_type": "code",
   "execution_count": null,
   "id": "thousand-corporation",
   "metadata": {},
   "outputs": [],
   "source": [
    "! biom convert --to-tsv \\\n",
    "    -i ./dada2_table_export/feature-table.biom \\\n",
    "    -o ./dada2_table_export/feature-table.txt"
   ]
  },
  {
   "cell_type": "code",
   "execution_count": null,
   "id": "southeast-metropolitan",
   "metadata": {},
   "outputs": [],
   "source": [
    "! qiime feature-table transpose \\\n",
    "    --i-table ./dada2_table.qza \\\n",
    "    --o-transposed-feature-table ./dada2_table_transposed.qza\n",
    "\n",
    "! qiime metadata tabulate \\\n",
    "    --m-input-file ./dada2_table_transposed.qza  \\\n",
    "    --o-visualization ./dada2_table_transposed_tab.qzv\n",
    "\n",
    "! qiime tools export \\\n",
    "    --input-path ./dada2_table_transposed.qza \\\n",
    "    --output-path ./dada2_table_transposed_export\n",
    "\n",
    "! biom convert --to-tsv \\\n",
    "    -i ./dada2_table_transposed_export/feature-table.biom \\\n",
    "    -o ./dada2_table_transposed_export/feature-table.txt"
   ]
  },
  {
   "cell_type": "code",
   "execution_count": null,
   "id": "three-velvet",
   "metadata": {},
   "outputs": [],
   "source": []
  },
  {
   "cell_type": "code",
   "execution_count": null,
   "id": "spare-syndicate",
   "metadata": {},
   "outputs": [],
   "source": [
    "! qiime metadata tabulate \\\n",
    "    --m-input-file ./dada2_table.qza  \\\n",
    "    --o-visualization ./dada2_table_tab.qzv"
   ]
  },
  {
   "cell_type": "raw",
   "id": "humanitarian-nickname",
   "metadata": {},
   "source": [
    "q2.Visualization.load('dada2_table.qzv')"
   ]
  },
  {
   "cell_type": "raw",
   "id": "heavy-scene",
   "metadata": {},
   "source": [
    "q2.Visualization.load('dada2_rep_set.qzv')"
   ]
  },
  {
   "cell_type": "markdown",
   "id": "automated-research",
   "metadata": {},
   "source": [
    "### Alternate Trimming w/ DADA2"
   ]
  },
  {
   "cell_type": "code",
   "execution_count": null,
   "id": "ethical-milton",
   "metadata": {},
   "outputs": [],
   "source": [
    "! qiime dada2 denoise-single \\\n",
    "    --i-demultiplexed-seqs ./demux_seqs.qza \\\n",
    "    --p-trim-left 30 \\\n",
    "    --p-trunc-len 130 \\\n",
    "    --o-table ./dada2_table_alt.qza \\\n",
    "    --o-representative-sequences ./dada2_rep_set_alt.qza \\\n",
    "    --o-denoising-stats ./dada2_stats_alt.qza \\\n",
    "    --verbose"
   ]
  },
  {
   "cell_type": "code",
   "execution_count": null,
   "id": "short-tuner",
   "metadata": {},
   "outputs": [],
   "source": [
    "# summarize denoising stats\n",
    "! qiime metadata tabulate \\\n",
    "    --m-input-file ./dada2_stats_alt.qza  \\\n",
    "    --o-visualization ./dada2_stats_alt.qzv"
   ]
  },
  {
   "cell_type": "code",
   "execution_count": null,
   "id": "antique-bubble",
   "metadata": {},
   "outputs": [],
   "source": [
    "q2.Visualization.load('dada2_stats_alt.qzv')"
   ]
  },
  {
   "cell_type": "code",
   "execution_count": null,
   "id": "revised-exception",
   "metadata": {},
   "outputs": [],
   "source": [
    "# summarize ESV table\n",
    "! qiime feature-table summarize \\\n",
    "    --i-table ./dada2_table_alt.qza \\\n",
    "    --m-sample-metadata-file ./metadata.tsv \\\n",
    "    --o-visualization ./dada2_table_alt.qzv"
   ]
  },
  {
   "cell_type": "code",
   "execution_count": null,
   "id": "rational-event",
   "metadata": {},
   "outputs": [],
   "source": [
    "q2.Visualization.load('dada2_table_alt.qzv')"
   ]
  },
  {
   "cell_type": "markdown",
   "id": "integral-aurora",
   "metadata": {},
   "source": [
    "### deblur w/ default"
   ]
  },
  {
   "cell_type": "code",
   "execution_count": null,
   "id": "ignored-stage",
   "metadata": {},
   "outputs": [],
   "source": [
    "! qiime quality-filter q-score \\\n",
    "    --i-demux ./demux_seqs.qza \\\n",
    "    --o-filtered-sequences demux-seqs-deblur.qza \\\n",
    "    --o-filter-stats demux-deblur-stats.qza"
   ]
  },
  {
   "cell_type": "code",
   "execution_count": null,
   "id": "surrounded-fifty",
   "metadata": {},
   "outputs": [],
   "source": [
    "# Defaults to Greengenes. \n",
    "#    If you want to use SILVA or another ref db, then use:\n",
    "#    `qiime deblur denoise-other`\n",
    "#    silva files are located here: https://docs.qiime2.org/2022.11/data-resources/\n",
    "! qiime deblur denoise-16S \\\n",
    "    --i-demultiplexed-seqs demux-seqs-deblur.qza \\\n",
    "    --p-trim-length 131 \\\n",
    "    --o-representative-sequences rep-seqs-deblur.qza \\\n",
    "    --o-table table-deblur.qza \\\n",
    "    --p-sample-stats \\\n",
    "    --o-stats deblur-stats.qza"
   ]
  },
  {
   "cell_type": "code",
   "execution_count": null,
   "id": "abroad-publisher",
   "metadata": {},
   "outputs": [],
   "source": [
    "! qiime metadata tabulate \\\n",
    "    --m-input-file demux-deblur-stats.qza \\\n",
    "    --o-visualization demux-deblur-stats.qzv\n",
    "\n",
    "! qiime deblur visualize-stats \\\n",
    "    --i-deblur-stats deblur-stats.qza \\\n",
    "    --o-visualization deblur-stats.qzv"
   ]
  },
  {
   "cell_type": "code",
   "execution_count": null,
   "id": "aware-pledge",
   "metadata": {},
   "outputs": [],
   "source": [
    "q2.Visualization.load('demux-deblur-stats.qzv')"
   ]
  },
  {
   "cell_type": "code",
   "execution_count": null,
   "id": "surprised-myrtle",
   "metadata": {},
   "outputs": [],
   "source": [
    "q2.Visualization.load('deblur-stats.qzv')"
   ]
  },
  {
   "cell_type": "code",
   "execution_count": null,
   "id": "southern-kruger",
   "metadata": {},
   "outputs": [],
   "source": [
    "! qiime feature-table summarize \\\n",
    "    --i-table table-deblur.qza \\\n",
    "    --o-visualization table-deblur.qzv \\\n",
    "    --m-sample-metadata-file metadata.tsv\n",
    "\n",
    "! qiime feature-table tabulate-seqs \\\n",
    "    --i-data rep-seqs-deblur.qza \\\n",
    "    --o-visualization rep-seqs-deblur.qzv"
   ]
  },
  {
   "cell_type": "code",
   "execution_count": null,
   "id": "lasting-lightning",
   "metadata": {
    "scrolled": true
   },
   "outputs": [],
   "source": [
    "q2.Visualization.load('table-deblur.qzv')"
   ]
  },
  {
   "cell_type": "code",
   "execution_count": null,
   "id": "contrary-railway",
   "metadata": {
    "scrolled": true
   },
   "outputs": [],
   "source": [
    "q2.Visualization.load('rep-seqs-deblur.qzv')"
   ]
  },
  {
   "cell_type": "code",
   "execution_count": null,
   "id": "greenhouse-glossary",
   "metadata": {},
   "outputs": [],
   "source": []
  },
  {
   "cell_type": "code",
   "execution_count": null,
   "id": "signal-offense",
   "metadata": {},
   "outputs": [],
   "source": []
  }
 ],
 "metadata": {
  "kernelspec": {
   "display_name": "Python [conda env:qiime2-amplicon-2023.9]",
   "language": "python",
   "name": "conda-env-qiime2-amplicon-2023.9-py"
  },
  "language_info": {
   "codemirror_mode": {
    "name": "ipython",
    "version": 3
   },
   "file_extension": ".py",
   "mimetype": "text/x-python",
   "name": "python",
   "nbconvert_exporter": "python",
   "pygments_lexer": "ipython3",
   "version": "3.8.15"
  }
 },
 "nbformat": 4,
 "nbformat_minor": 5
}
